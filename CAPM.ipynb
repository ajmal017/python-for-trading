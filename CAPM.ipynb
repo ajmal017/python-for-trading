{
 "cells": [
  {
   "cell_type": "code",
   "execution_count": 1,
   "metadata": {},
   "outputs": [],
   "source": [
    "import numpy as np\n",
    "import pandas as pd\n",
    "import matplotlib.pyplot as plt\n",
    "%matplotlib inline"
   ]
  },
  {
   "cell_type": "code",
   "execution_count": 2,
   "metadata": {},
   "outputs": [],
   "source": [
    "import yfinance as yf"
   ]
  },
  {
   "cell_type": "markdown",
   "metadata": {},
   "source": [
    "\n",
    "## passive : buy index and hold\n",
    "## active : pick stocks\n",
    "## CAPM for individual stocks\n",
    "$$r_{i}(t)=\\beta_{i} * r_{m}(t)+\\alpha_{i}(t)$$"
   ]
  },
  {
   "cell_type": "markdown",
   "metadata": {},
   "source": [
    "## CAPM for portfolio\n",
    "$$r_p(t)=\\sum_i w_i(\\beta_i*r_m(t)+\\alpha_i(t)$$\n",
    "$$r_p(t)=\\beta_p(t)*r_m(t)+\\alpha_p$$"
   ]
  },
  {
   "cell_type": "markdown",
   "metadata": {},
   "source": [
    "*  expected value of $\\alpha$ is zero\n",
    "*  only way to beat market is to choose $\\beta$\n",
    "*  choose high $\\beta$ in up markets\n",
    "*  choose low $\\beta$ in down markets \n"
   ]
  },
  {
   "cell_type": "code",
   "execution_count": null,
   "metadata": {},
   "outputs": [],
   "source": []
  }
 ],
 "metadata": {
  "kernelspec": {
   "display_name": "Python 2",
   "language": "python",
   "name": "python2"
  },
  "language_info": {
   "codemirror_mode": {
    "name": "ipython",
    "version": 2
   },
   "file_extension": ".py",
   "mimetype": "text/x-python",
   "name": "python",
   "nbconvert_exporter": "python",
   "pygments_lexer": "ipython2",
   "version": "2.7.15"
  }
 },
 "nbformat": 4,
 "nbformat_minor": 2
}

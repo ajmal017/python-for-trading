{
 "cells": [
  {
   "cell_type": "code",
   "execution_count": 1,
   "metadata": {},
   "outputs": [],
   "source": [
    "import numpy as np\n",
    "import pandas as pd\n",
    "import matplotlib.pyplot as plt\n",
    "%matplotlib inline"
   ]
  },
  {
   "cell_type": "code",
   "execution_count": 2,
   "metadata": {},
   "outputs": [],
   "source": [
    "import yfinance as yf"
   ]
  },
  {
   "cell_type": "markdown",
   "metadata": {},
   "source": [
    "# Daily portfolio value"
   ]
  },
  {
   "cell_type": "code",
   "execution_count": 3,
   "metadata": {},
   "outputs": [
    {
     "data": {
      "text/plain": [
       "12.699606293110037"
      ]
     },
     "execution_count": 3,
     "metadata": {},
     "output_type": "execute_result"
    }
   ],
   "source": [
    "np.sqrt(252)*((0.001-0.0002)/0.001)"
   ]
  },
  {
   "cell_type": "code",
   "execution_count": 4,
   "metadata": {},
   "outputs": [
    {
     "name": "stdout",
     "output_type": "stream",
     "text": [
      "[*********************100%***********************]  4 of 4 completed\n"
     ]
    }
   ],
   "source": [
    "data=yf.download(\"SPY XOM IBM GLD\",start=\"2000-01-01\",group_by='ticker')"
   ]
  },
  {
   "cell_type": "code",
   "execution_count": 5,
   "metadata": {},
   "outputs": [
    {
     "data": {
      "text/html": [
       "<div>\n",
       "<style scoped>\n",
       "    .dataframe tbody tr th:only-of-type {\n",
       "        vertical-align: middle;\n",
       "    }\n",
       "\n",
       "    .dataframe tbody tr th {\n",
       "        vertical-align: top;\n",
       "    }\n",
       "\n",
       "    .dataframe thead tr th {\n",
       "        text-align: left;\n",
       "    }\n",
       "\n",
       "    .dataframe thead tr:last-of-type th {\n",
       "        text-align: right;\n",
       "    }\n",
       "</style>\n",
       "<table border=\"1\" class=\"dataframe\">\n",
       "  <thead>\n",
       "    <tr>\n",
       "      <th></th>\n",
       "      <th colspan=\"6\" halign=\"left\">SPY</th>\n",
       "      <th colspan=\"4\" halign=\"left\">XOM</th>\n",
       "      <th>...</th>\n",
       "      <th colspan=\"4\" halign=\"left\">GLD</th>\n",
       "      <th colspan=\"6\" halign=\"left\">IBM</th>\n",
       "    </tr>\n",
       "    <tr>\n",
       "      <th></th>\n",
       "      <th>Adj Close</th>\n",
       "      <th>Close</th>\n",
       "      <th>High</th>\n",
       "      <th>Low</th>\n",
       "      <th>Open</th>\n",
       "      <th>Volume</th>\n",
       "      <th>Adj Close</th>\n",
       "      <th>Close</th>\n",
       "      <th>High</th>\n",
       "      <th>Low</th>\n",
       "      <th>...</th>\n",
       "      <th>High</th>\n",
       "      <th>Low</th>\n",
       "      <th>Open</th>\n",
       "      <th>Volume</th>\n",
       "      <th>Adj Close</th>\n",
       "      <th>Close</th>\n",
       "      <th>High</th>\n",
       "      <th>Low</th>\n",
       "      <th>Open</th>\n",
       "      <th>Volume</th>\n",
       "    </tr>\n",
       "    <tr>\n",
       "      <th>Date</th>\n",
       "      <th></th>\n",
       "      <th></th>\n",
       "      <th></th>\n",
       "      <th></th>\n",
       "      <th></th>\n",
       "      <th></th>\n",
       "      <th></th>\n",
       "      <th></th>\n",
       "      <th></th>\n",
       "      <th></th>\n",
       "      <th></th>\n",
       "      <th></th>\n",
       "      <th></th>\n",
       "      <th></th>\n",
       "      <th></th>\n",
       "      <th></th>\n",
       "      <th></th>\n",
       "      <th></th>\n",
       "      <th></th>\n",
       "      <th></th>\n",
       "      <th></th>\n",
       "    </tr>\n",
       "  </thead>\n",
       "  <tbody>\n",
       "    <tr>\n",
       "      <th>1999-12-31</th>\n",
       "      <td>100.376900</td>\n",
       "      <td>146.8750</td>\n",
       "      <td>147.50000</td>\n",
       "      <td>146.250000</td>\n",
       "      <td>146.84375</td>\n",
       "      <td>3172700</td>\n",
       "      <td>21.746706</td>\n",
       "      <td>40.28125</td>\n",
       "      <td>40.50000</td>\n",
       "      <td>40.09375</td>\n",
       "      <td>...</td>\n",
       "      <td>NaN</td>\n",
       "      <td>NaN</td>\n",
       "      <td>NaN</td>\n",
       "      <td>NaN</td>\n",
       "      <td>69.394135</td>\n",
       "      <td>107.8750</td>\n",
       "      <td>109.5000</td>\n",
       "      <td>106.625</td>\n",
       "      <td>109.1875</td>\n",
       "      <td>2870300</td>\n",
       "    </tr>\n",
       "    <tr>\n",
       "      <th>2000-01-03</th>\n",
       "      <td>99.394493</td>\n",
       "      <td>145.4375</td>\n",
       "      <td>148.25000</td>\n",
       "      <td>143.875000</td>\n",
       "      <td>148.25000</td>\n",
       "      <td>8164300</td>\n",
       "      <td>21.139345</td>\n",
       "      <td>39.15625</td>\n",
       "      <td>40.37500</td>\n",
       "      <td>38.93750</td>\n",
       "      <td>...</td>\n",
       "      <td>NaN</td>\n",
       "      <td>NaN</td>\n",
       "      <td>NaN</td>\n",
       "      <td>NaN</td>\n",
       "      <td>74.620827</td>\n",
       "      <td>116.0000</td>\n",
       "      <td>116.0000</td>\n",
       "      <td>111.875</td>\n",
       "      <td>112.4375</td>\n",
       "      <td>10347700</td>\n",
       "    </tr>\n",
       "    <tr>\n",
       "      <th>2000-01-04</th>\n",
       "      <td>95.507530</td>\n",
       "      <td>139.7500</td>\n",
       "      <td>144.06250</td>\n",
       "      <td>139.640625</td>\n",
       "      <td>143.53125</td>\n",
       "      <td>8089800</td>\n",
       "      <td>20.734442</td>\n",
       "      <td>38.40625</td>\n",
       "      <td>39.09375</td>\n",
       "      <td>38.25000</td>\n",
       "      <td>...</td>\n",
       "      <td>NaN</td>\n",
       "      <td>NaN</td>\n",
       "      <td>NaN</td>\n",
       "      <td>NaN</td>\n",
       "      <td>72.087906</td>\n",
       "      <td>112.0625</td>\n",
       "      <td>114.5000</td>\n",
       "      <td>110.875</td>\n",
       "      <td>114.0000</td>\n",
       "      <td>8227800</td>\n",
       "    </tr>\n",
       "    <tr>\n",
       "      <th>2000-01-05</th>\n",
       "      <td>95.678391</td>\n",
       "      <td>140.0000</td>\n",
       "      <td>141.53125</td>\n",
       "      <td>137.250000</td>\n",
       "      <td>139.93750</td>\n",
       "      <td>12177900</td>\n",
       "      <td>21.864794</td>\n",
       "      <td>40.50000</td>\n",
       "      <td>40.87500</td>\n",
       "      <td>38.90625</td>\n",
       "      <td>...</td>\n",
       "      <td>NaN</td>\n",
       "      <td>NaN</td>\n",
       "      <td>NaN</td>\n",
       "      <td>NaN</td>\n",
       "      <td>74.620827</td>\n",
       "      <td>116.0000</td>\n",
       "      <td>119.7500</td>\n",
       "      <td>112.125</td>\n",
       "      <td>112.9375</td>\n",
       "      <td>12733200</td>\n",
       "    </tr>\n",
       "    <tr>\n",
       "      <th>2000-01-06</th>\n",
       "      <td>94.140717</td>\n",
       "      <td>137.7500</td>\n",
       "      <td>141.50000</td>\n",
       "      <td>137.750000</td>\n",
       "      <td>139.62500</td>\n",
       "      <td>6227200</td>\n",
       "      <td>22.995153</td>\n",
       "      <td>42.59375</td>\n",
       "      <td>42.90625</td>\n",
       "      <td>40.09375</td>\n",
       "      <td>...</td>\n",
       "      <td>NaN</td>\n",
       "      <td>NaN</td>\n",
       "      <td>NaN</td>\n",
       "      <td>NaN</td>\n",
       "      <td>73.334274</td>\n",
       "      <td>114.0000</td>\n",
       "      <td>118.9375</td>\n",
       "      <td>113.500</td>\n",
       "      <td>118.0000</td>\n",
       "      <td>7971900</td>\n",
       "    </tr>\n",
       "  </tbody>\n",
       "</table>\n",
       "<p>5 rows × 24 columns</p>\n",
       "</div>"
      ],
      "text/plain": [
       "                   SPY                                                        \\\n",
       "             Adj Close     Close       High         Low       Open    Volume   \n",
       "Date                                                                           \n",
       "1999-12-31  100.376900  146.8750  147.50000  146.250000  146.84375   3172700   \n",
       "2000-01-03   99.394493  145.4375  148.25000  143.875000  148.25000   8164300   \n",
       "2000-01-04   95.507530  139.7500  144.06250  139.640625  143.53125   8089800   \n",
       "2000-01-05   95.678391  140.0000  141.53125  137.250000  139.93750  12177900   \n",
       "2000-01-06   94.140717  137.7500  141.50000  137.750000  139.62500   6227200   \n",
       "\n",
       "                  XOM                                ...  GLD                  \\\n",
       "            Adj Close     Close      High       Low  ... High Low Open Volume   \n",
       "Date                                                 ...                        \n",
       "1999-12-31  21.746706  40.28125  40.50000  40.09375  ...  NaN NaN  NaN    NaN   \n",
       "2000-01-03  21.139345  39.15625  40.37500  38.93750  ...  NaN NaN  NaN    NaN   \n",
       "2000-01-04  20.734442  38.40625  39.09375  38.25000  ...  NaN NaN  NaN    NaN   \n",
       "2000-01-05  21.864794  40.50000  40.87500  38.90625  ...  NaN NaN  NaN    NaN   \n",
       "2000-01-06  22.995153  42.59375  42.90625  40.09375  ...  NaN NaN  NaN    NaN   \n",
       "\n",
       "                  IBM                                                   \n",
       "            Adj Close     Close      High      Low      Open    Volume  \n",
       "Date                                                                    \n",
       "1999-12-31  69.394135  107.8750  109.5000  106.625  109.1875   2870300  \n",
       "2000-01-03  74.620827  116.0000  116.0000  111.875  112.4375  10347700  \n",
       "2000-01-04  72.087906  112.0625  114.5000  110.875  114.0000   8227800  \n",
       "2000-01-05  74.620827  116.0000  119.7500  112.125  112.9375  12733200  \n",
       "2000-01-06  73.334274  114.0000  118.9375  113.500  118.0000   7971900  \n",
       "\n",
       "[5 rows x 24 columns]"
      ]
     },
     "execution_count": 5,
     "metadata": {},
     "output_type": "execute_result"
    }
   ],
   "source": [
    "data.head()"
   ]
  },
  {
   "cell_type": "code",
   "execution_count": 6,
   "metadata": {},
   "outputs": [],
   "source": [
    "data.fillna(method=\"ffill\",inplace=True)\n",
    "data.fillna(method=\"bfill\",inplace=True)"
   ]
  },
  {
   "cell_type": "code",
   "execution_count": 7,
   "metadata": {},
   "outputs": [
    {
     "data": {
      "text/html": [
       "<div>\n",
       "<style scoped>\n",
       "    .dataframe tbody tr th:only-of-type {\n",
       "        vertical-align: middle;\n",
       "    }\n",
       "\n",
       "    .dataframe tbody tr th {\n",
       "        vertical-align: top;\n",
       "    }\n",
       "\n",
       "    .dataframe thead tr th {\n",
       "        text-align: left;\n",
       "    }\n",
       "\n",
       "    .dataframe thead tr:last-of-type th {\n",
       "        text-align: right;\n",
       "    }\n",
       "</style>\n",
       "<table border=\"1\" class=\"dataframe\">\n",
       "  <thead>\n",
       "    <tr>\n",
       "      <th></th>\n",
       "      <th colspan=\"6\" halign=\"left\">SPY</th>\n",
       "      <th colspan=\"4\" halign=\"left\">XOM</th>\n",
       "      <th>...</th>\n",
       "      <th colspan=\"4\" halign=\"left\">GLD</th>\n",
       "      <th colspan=\"6\" halign=\"left\">IBM</th>\n",
       "    </tr>\n",
       "    <tr>\n",
       "      <th></th>\n",
       "      <th>Adj Close</th>\n",
       "      <th>Close</th>\n",
       "      <th>High</th>\n",
       "      <th>Low</th>\n",
       "      <th>Open</th>\n",
       "      <th>Volume</th>\n",
       "      <th>Adj Close</th>\n",
       "      <th>Close</th>\n",
       "      <th>High</th>\n",
       "      <th>Low</th>\n",
       "      <th>...</th>\n",
       "      <th>High</th>\n",
       "      <th>Low</th>\n",
       "      <th>Open</th>\n",
       "      <th>Volume</th>\n",
       "      <th>Adj Close</th>\n",
       "      <th>Close</th>\n",
       "      <th>High</th>\n",
       "      <th>Low</th>\n",
       "      <th>Open</th>\n",
       "      <th>Volume</th>\n",
       "    </tr>\n",
       "    <tr>\n",
       "      <th>Date</th>\n",
       "      <th></th>\n",
       "      <th></th>\n",
       "      <th></th>\n",
       "      <th></th>\n",
       "      <th></th>\n",
       "      <th></th>\n",
       "      <th></th>\n",
       "      <th></th>\n",
       "      <th></th>\n",
       "      <th></th>\n",
       "      <th></th>\n",
       "      <th></th>\n",
       "      <th></th>\n",
       "      <th></th>\n",
       "      <th></th>\n",
       "      <th></th>\n",
       "      <th></th>\n",
       "      <th></th>\n",
       "      <th></th>\n",
       "      <th></th>\n",
       "      <th></th>\n",
       "    </tr>\n",
       "  </thead>\n",
       "  <tbody>\n",
       "    <tr>\n",
       "      <th>1999-12-31</th>\n",
       "      <td>100.376900</td>\n",
       "      <td>146.8750</td>\n",
       "      <td>147.50000</td>\n",
       "      <td>146.250000</td>\n",
       "      <td>146.84375</td>\n",
       "      <td>3172700</td>\n",
       "      <td>21.746706</td>\n",
       "      <td>40.28125</td>\n",
       "      <td>40.50000</td>\n",
       "      <td>40.09375</td>\n",
       "      <td>...</td>\n",
       "      <td>44.490002</td>\n",
       "      <td>44.07</td>\n",
       "      <td>44.43</td>\n",
       "      <td>5992000.0</td>\n",
       "      <td>69.394135</td>\n",
       "      <td>107.8750</td>\n",
       "      <td>109.5000</td>\n",
       "      <td>106.625</td>\n",
       "      <td>109.1875</td>\n",
       "      <td>2870300</td>\n",
       "    </tr>\n",
       "    <tr>\n",
       "      <th>2000-01-03</th>\n",
       "      <td>99.394493</td>\n",
       "      <td>145.4375</td>\n",
       "      <td>148.25000</td>\n",
       "      <td>143.875000</td>\n",
       "      <td>148.25000</td>\n",
       "      <td>8164300</td>\n",
       "      <td>21.139345</td>\n",
       "      <td>39.15625</td>\n",
       "      <td>40.37500</td>\n",
       "      <td>38.93750</td>\n",
       "      <td>...</td>\n",
       "      <td>44.490002</td>\n",
       "      <td>44.07</td>\n",
       "      <td>44.43</td>\n",
       "      <td>5992000.0</td>\n",
       "      <td>74.620827</td>\n",
       "      <td>116.0000</td>\n",
       "      <td>116.0000</td>\n",
       "      <td>111.875</td>\n",
       "      <td>112.4375</td>\n",
       "      <td>10347700</td>\n",
       "    </tr>\n",
       "    <tr>\n",
       "      <th>2000-01-04</th>\n",
       "      <td>95.507530</td>\n",
       "      <td>139.7500</td>\n",
       "      <td>144.06250</td>\n",
       "      <td>139.640625</td>\n",
       "      <td>143.53125</td>\n",
       "      <td>8089800</td>\n",
       "      <td>20.734442</td>\n",
       "      <td>38.40625</td>\n",
       "      <td>39.09375</td>\n",
       "      <td>38.25000</td>\n",
       "      <td>...</td>\n",
       "      <td>44.490002</td>\n",
       "      <td>44.07</td>\n",
       "      <td>44.43</td>\n",
       "      <td>5992000.0</td>\n",
       "      <td>72.087906</td>\n",
       "      <td>112.0625</td>\n",
       "      <td>114.5000</td>\n",
       "      <td>110.875</td>\n",
       "      <td>114.0000</td>\n",
       "      <td>8227800</td>\n",
       "    </tr>\n",
       "    <tr>\n",
       "      <th>2000-01-05</th>\n",
       "      <td>95.678391</td>\n",
       "      <td>140.0000</td>\n",
       "      <td>141.53125</td>\n",
       "      <td>137.250000</td>\n",
       "      <td>139.93750</td>\n",
       "      <td>12177900</td>\n",
       "      <td>21.864794</td>\n",
       "      <td>40.50000</td>\n",
       "      <td>40.87500</td>\n",
       "      <td>38.90625</td>\n",
       "      <td>...</td>\n",
       "      <td>44.490002</td>\n",
       "      <td>44.07</td>\n",
       "      <td>44.43</td>\n",
       "      <td>5992000.0</td>\n",
       "      <td>74.620827</td>\n",
       "      <td>116.0000</td>\n",
       "      <td>119.7500</td>\n",
       "      <td>112.125</td>\n",
       "      <td>112.9375</td>\n",
       "      <td>12733200</td>\n",
       "    </tr>\n",
       "    <tr>\n",
       "      <th>2000-01-06</th>\n",
       "      <td>94.140717</td>\n",
       "      <td>137.7500</td>\n",
       "      <td>141.50000</td>\n",
       "      <td>137.750000</td>\n",
       "      <td>139.62500</td>\n",
       "      <td>6227200</td>\n",
       "      <td>22.995153</td>\n",
       "      <td>42.59375</td>\n",
       "      <td>42.90625</td>\n",
       "      <td>40.09375</td>\n",
       "      <td>...</td>\n",
       "      <td>44.490002</td>\n",
       "      <td>44.07</td>\n",
       "      <td>44.43</td>\n",
       "      <td>5992000.0</td>\n",
       "      <td>73.334274</td>\n",
       "      <td>114.0000</td>\n",
       "      <td>118.9375</td>\n",
       "      <td>113.500</td>\n",
       "      <td>118.0000</td>\n",
       "      <td>7971900</td>\n",
       "    </tr>\n",
       "  </tbody>\n",
       "</table>\n",
       "<p>5 rows × 24 columns</p>\n",
       "</div>"
      ],
      "text/plain": [
       "                   SPY                                                        \\\n",
       "             Adj Close     Close       High         Low       Open    Volume   \n",
       "Date                                                                           \n",
       "1999-12-31  100.376900  146.8750  147.50000  146.250000  146.84375   3172700   \n",
       "2000-01-03   99.394493  145.4375  148.25000  143.875000  148.25000   8164300   \n",
       "2000-01-04   95.507530  139.7500  144.06250  139.640625  143.53125   8089800   \n",
       "2000-01-05   95.678391  140.0000  141.53125  137.250000  139.93750  12177900   \n",
       "2000-01-06   94.140717  137.7500  141.50000  137.750000  139.62500   6227200   \n",
       "\n",
       "                  XOM                                ...        GLD         \\\n",
       "            Adj Close     Close      High       Low  ...       High    Low   \n",
       "Date                                                 ...                     \n",
       "1999-12-31  21.746706  40.28125  40.50000  40.09375  ...  44.490002  44.07   \n",
       "2000-01-03  21.139345  39.15625  40.37500  38.93750  ...  44.490002  44.07   \n",
       "2000-01-04  20.734442  38.40625  39.09375  38.25000  ...  44.490002  44.07   \n",
       "2000-01-05  21.864794  40.50000  40.87500  38.90625  ...  44.490002  44.07   \n",
       "2000-01-06  22.995153  42.59375  42.90625  40.09375  ...  44.490002  44.07   \n",
       "\n",
       "                                    IBM                               \\\n",
       "             Open     Volume  Adj Close     Close      High      Low   \n",
       "Date                                                                   \n",
       "1999-12-31  44.43  5992000.0  69.394135  107.8750  109.5000  106.625   \n",
       "2000-01-03  44.43  5992000.0  74.620827  116.0000  116.0000  111.875   \n",
       "2000-01-04  44.43  5992000.0  72.087906  112.0625  114.5000  110.875   \n",
       "2000-01-05  44.43  5992000.0  74.620827  116.0000  119.7500  112.125   \n",
       "2000-01-06  44.43  5992000.0  73.334274  114.0000  118.9375  113.500   \n",
       "\n",
       "                                \n",
       "                Open    Volume  \n",
       "Date                            \n",
       "1999-12-31  109.1875   2870300  \n",
       "2000-01-03  112.4375  10347700  \n",
       "2000-01-04  114.0000   8227800  \n",
       "2000-01-05  112.9375  12733200  \n",
       "2000-01-06  118.0000   7971900  \n",
       "\n",
       "[5 rows x 24 columns]"
      ]
     },
     "execution_count": 7,
     "metadata": {},
     "output_type": "execute_result"
    }
   ],
   "source": [
    "data.head()"
   ]
  },
  {
   "cell_type": "code",
   "execution_count": 8,
   "metadata": {},
   "outputs": [],
   "source": [
    "close_prices={'SPY':data['SPY']['Close'],'XOM':data['XOM']['Close'],'GLD':data['GLD']['Close'],'IBM':data['IBM']['Close']}"
   ]
  },
  {
   "cell_type": "code",
   "execution_count": 9,
   "metadata": {},
   "outputs": [],
   "source": [
    "df=pd.DataFrame(close_prices)"
   ]
  },
  {
   "cell_type": "code",
   "execution_count": 10,
   "metadata": {},
   "outputs": [
    {
     "data": {
      "text/html": [
       "<div>\n",
       "<style scoped>\n",
       "    .dataframe tbody tr th:only-of-type {\n",
       "        vertical-align: middle;\n",
       "    }\n",
       "\n",
       "    .dataframe tbody tr th {\n",
       "        vertical-align: top;\n",
       "    }\n",
       "\n",
       "    .dataframe thead th {\n",
       "        text-align: right;\n",
       "    }\n",
       "</style>\n",
       "<table border=\"1\" class=\"dataframe\">\n",
       "  <thead>\n",
       "    <tr style=\"text-align: right;\">\n",
       "      <th></th>\n",
       "      <th>GLD</th>\n",
       "      <th>IBM</th>\n",
       "      <th>SPY</th>\n",
       "      <th>XOM</th>\n",
       "    </tr>\n",
       "    <tr>\n",
       "      <th>Date</th>\n",
       "      <th></th>\n",
       "      <th></th>\n",
       "      <th></th>\n",
       "      <th></th>\n",
       "    </tr>\n",
       "  </thead>\n",
       "  <tbody>\n",
       "    <tr>\n",
       "      <th>1999-12-31</th>\n",
       "      <td>44.380001</td>\n",
       "      <td>107.8750</td>\n",
       "      <td>146.8750</td>\n",
       "      <td>40.28125</td>\n",
       "    </tr>\n",
       "    <tr>\n",
       "      <th>2000-01-03</th>\n",
       "      <td>44.380001</td>\n",
       "      <td>116.0000</td>\n",
       "      <td>145.4375</td>\n",
       "      <td>39.15625</td>\n",
       "    </tr>\n",
       "    <tr>\n",
       "      <th>2000-01-04</th>\n",
       "      <td>44.380001</td>\n",
       "      <td>112.0625</td>\n",
       "      <td>139.7500</td>\n",
       "      <td>38.40625</td>\n",
       "    </tr>\n",
       "    <tr>\n",
       "      <th>2000-01-05</th>\n",
       "      <td>44.380001</td>\n",
       "      <td>116.0000</td>\n",
       "      <td>140.0000</td>\n",
       "      <td>40.50000</td>\n",
       "    </tr>\n",
       "    <tr>\n",
       "      <th>2000-01-06</th>\n",
       "      <td>44.380001</td>\n",
       "      <td>114.0000</td>\n",
       "      <td>137.7500</td>\n",
       "      <td>42.59375</td>\n",
       "    </tr>\n",
       "  </tbody>\n",
       "</table>\n",
       "</div>"
      ],
      "text/plain": [
       "                  GLD       IBM       SPY       XOM\n",
       "Date                                               \n",
       "1999-12-31  44.380001  107.8750  146.8750  40.28125\n",
       "2000-01-03  44.380001  116.0000  145.4375  39.15625\n",
       "2000-01-04  44.380001  112.0625  139.7500  38.40625\n",
       "2000-01-05  44.380001  116.0000  140.0000  40.50000\n",
       "2000-01-06  44.380001  114.0000  137.7500  42.59375"
      ]
     },
     "execution_count": 10,
     "metadata": {},
     "output_type": "execute_result"
    }
   ],
   "source": [
    "df.head()"
   ]
  },
  {
   "cell_type": "code",
   "execution_count": 11,
   "metadata": {},
   "outputs": [
    {
     "data": {
      "text/plain": [
       "<matplotlib.axes._subplots.AxesSubplot at 0x123176510>"
      ]
     },
     "execution_count": 11,
     "metadata": {},
     "output_type": "execute_result"
    },
    {
     "data": {
      "image/png": "[encoded data removed]",
      "text/plain": [
       "<Figure size 432x288 with 1 Axes>"
      ]
     },
     "metadata": {
      "needs_background": "light"
     },
     "output_type": "display_data"
    }
   ],
   "source": [
    "df.plot()"
   ]
  },
  {
   "cell_type": "code",
   "execution_count": 12,
   "metadata": {},
   "outputs": [],
   "source": [
    "#normalized dataframe\n",
    "df_norm=df/df.iloc[0,:]"
   ]
  },
  {
   "cell_type": "code",
   "execution_count": 13,
   "metadata": {},
   "outputs": [
    {
     "data": {
      "text/plain": [
       "<matplotlib.axes._subplots.AxesSubplot at 0x1231ba8d0>"
      ]
     },
     "execution_count": 13,
     "metadata": {},
     "output_type": "execute_result"
    },
    {
     "data": {
      "image/png": "[encoded data removed]",
      "text/plain": [
       "<Figure size 432x288 with 1 Axes>"
      ]
     },
     "metadata": {
      "needs_background": "light"
     },
     "output_type": "display_data"
    }
   ],
   "source": [
    "df_norm.plot()"
   ]
  },
  {
   "cell_type": "code",
   "execution_count": 14,
   "metadata": {},
   "outputs": [],
   "source": [
    "#GLD-0.1 IBM-0.1 SPY-0.4 XOM-0.4\n",
    "allocation=[0.1, 0.1, 0.4, 0.4]"
   ]
  },
  {
   "cell_type": "code",
   "execution_count": 15,
   "metadata": {},
   "outputs": [],
   "source": [
    "df_alloc=df_norm*allocation"
   ]
  },
  {
   "cell_type": "code",
   "execution_count": 16,
   "metadata": {},
   "outputs": [
    {
     "data": {
      "text/plain": [
       "<matplotlib.axes._subplots.AxesSubplot at 0x1236ede50>"
      ]
     },
     "execution_count": 16,
     "metadata": {},
     "output_type": "execute_result"
    },
    {
     "data": {
      "image/png": "[encoded data removed]",
      "text/plain": [
       "<Figure size 432x288 with 1 Axes>"
      ]
     },
     "metadata": {
      "needs_background": "light"
     },
     "output_type": "display_data"
    }
   ],
   "source": [
    "df_alloc.plot()"
   ]
  },
  {
   "cell_type": "code",
   "execution_count": 17,
   "metadata": {},
   "outputs": [],
   "source": [
    "#Initial investment\n",
    "df_inv=df_alloc*1000000"
   ]
  },
  {
   "cell_type": "code",
   "execution_count": 18,
   "metadata": {},
   "outputs": [],
   "source": [
    "df_ret=df_inv/df_inv.shift(1)-1"
   ]
  },
  {
   "cell_type": "code",
   "execution_count": 19,
   "metadata": {},
   "outputs": [],
   "source": [
    "df_ret=df_ret[1:]"
   ]
  },
  {
   "cell_type": "code",
   "execution_count": 20,
   "metadata": {},
   "outputs": [
    {
     "data": {
      "text/html": [
       "<div>\n",
       "<style scoped>\n",
       "    .dataframe tbody tr th:only-of-type {\n",
       "        vertical-align: middle;\n",
       "    }\n",
       "\n",
       "    .dataframe tbody tr th {\n",
       "        vertical-align: top;\n",
       "    }\n",
       "\n",
       "    .dataframe thead th {\n",
       "        text-align: right;\n",
       "    }\n",
       "</style>\n",
       "<table border=\"1\" class=\"dataframe\">\n",
       "  <thead>\n",
       "    <tr style=\"text-align: right;\">\n",
       "      <th></th>\n",
       "      <th>GLD</th>\n",
       "      <th>IBM</th>\n",
       "      <th>SPY</th>\n",
       "      <th>XOM</th>\n",
       "    </tr>\n",
       "    <tr>\n",
       "      <th>Date</th>\n",
       "      <th></th>\n",
       "      <th></th>\n",
       "      <th></th>\n",
       "      <th></th>\n",
       "    </tr>\n",
       "  </thead>\n",
       "  <tbody>\n",
       "    <tr>\n",
       "      <th>2000-01-03</th>\n",
       "      <td>0.0</td>\n",
       "      <td>0.075319</td>\n",
       "      <td>-0.009787</td>\n",
       "      <td>-0.027929</td>\n",
       "    </tr>\n",
       "    <tr>\n",
       "      <th>2000-01-04</th>\n",
       "      <td>0.0</td>\n",
       "      <td>-0.033944</td>\n",
       "      <td>-0.039106</td>\n",
       "      <td>-0.019154</td>\n",
       "    </tr>\n",
       "    <tr>\n",
       "      <th>2000-01-05</th>\n",
       "      <td>0.0</td>\n",
       "      <td>0.035137</td>\n",
       "      <td>0.001789</td>\n",
       "      <td>0.054516</td>\n",
       "    </tr>\n",
       "    <tr>\n",
       "      <th>2000-01-06</th>\n",
       "      <td>0.0</td>\n",
       "      <td>-0.017241</td>\n",
       "      <td>-0.016071</td>\n",
       "      <td>0.051698</td>\n",
       "    </tr>\n",
       "    <tr>\n",
       "      <th>2000-01-07</th>\n",
       "      <td>0.0</td>\n",
       "      <td>-0.004386</td>\n",
       "      <td>0.058076</td>\n",
       "      <td>-0.002935</td>\n",
       "    </tr>\n",
       "  </tbody>\n",
       "</table>\n",
       "</div>"
      ],
      "text/plain": [
       "            GLD       IBM       SPY       XOM\n",
       "Date                                         \n",
       "2000-01-03  0.0  0.075319 -0.009787 -0.027929\n",
       "2000-01-04  0.0 -0.033944 -0.039106 -0.019154\n",
       "2000-01-05  0.0  0.035137  0.001789  0.054516\n",
       "2000-01-06  0.0 -0.017241 -0.016071  0.051698\n",
       "2000-01-07  0.0 -0.004386  0.058076 -0.002935"
      ]
     },
     "execution_count": 20,
     "metadata": {},
     "output_type": "execute_result"
    }
   ],
   "source": [
    "df_ret.head()"
   ]
  },
  {
   "cell_type": "code",
   "execution_count": 21,
   "metadata": {},
   "outputs": [
    {
     "data": {
      "text/plain": [
       "<matplotlib.axes._subplots.AxesSubplot at 0x123a05bd0>"
      ]
     },
     "execution_count": 21,
     "metadata": {},
     "output_type": "execute_result"
    },
    {
     "data": {
      "image/png": "[encoded data removed]",
      "text/plain": [
       "<Figure size 432x288 with 1 Axes>"
      ]
     },
     "metadata": {
      "needs_background": "light"
     },
     "output_type": "display_data"
    }
   ],
   "source": [
    "df_ret.plot()"
   ]
  },
  {
   "cell_type": "code",
   "execution_count": 22,
   "metadata": {},
   "outputs": [],
   "source": [
    "#assuming risk free return 0\n",
    "sharpe_ratio=df_ret.mean()/df_ret.std()*np.sqrt(252)"
   ]
  },
  {
   "cell_type": "code",
   "execution_count": 23,
   "metadata": {},
   "outputs": [
    {
     "data": {
      "text/plain": [
       "GLD    0.480462\n",
       "IBM    0.159766\n",
       "SPY    0.278978\n",
       "XOM    0.150362\n",
       "dtype: float64"
      ]
     },
     "execution_count": 23,
     "metadata": {},
     "output_type": "execute_result"
    }
   ],
   "source": [
    "sharpe_ratio"
   ]
  },
  {
   "cell_type": "markdown",
   "metadata": {},
   "source": [
    "# nifty data"
   ]
  },
  {
   "cell_type": "code",
   "execution_count": 24,
   "metadata": {},
   "outputs": [
    {
     "name": "stdout",
     "output_type": "stream",
     "text": [
      "[*********************100%***********************]  1 of 1 completed\n"
     ]
    }
   ],
   "source": [
    "nifty_df=yf.download(\"^NSEI\",start=\"2000-01-01\")"
   ]
  },
  {
   "cell_type": "code",
   "execution_count": 27,
   "metadata": {},
   "outputs": [
    {
     "data": {
      "text/plain": [
       "<matplotlib.axes._subplots.AxesSubplot at 0x1248e9410>"
      ]
     },
     "execution_count": 27,
     "metadata": {},
     "output_type": "execute_result"
    },
    {
     "data": {
      "image/png": "[encoded data removed]",
      "text/plain": [
       "<Figure size 432x288 with 1 Axes>"
      ]
     },
     "metadata": {
      "needs_background": "light"
     },
     "output_type": "display_data"
    }
   ],
   "source": [
    "nifty_df['Close'].plot()"
   ]
  },
  {
   "cell_type": "code",
   "execution_count": 28,
   "metadata": {},
   "outputs": [],
   "source": [
    "#compute logarithmic returns using nifty close price\n",
    "log_ret=np.log(nifty_df['Close']/nifty_df['Close'].shift(1))"
   ]
  },
  {
   "cell_type": "code",
   "execution_count": 29,
   "metadata": {},
   "outputs": [
    {
     "data": {
      "text/plain": [
       "<matplotlib.axes._subplots.AxesSubplot at 0x124a9aed0>"
      ]
     },
     "execution_count": 29,
     "metadata": {},
     "output_type": "execute_result"
    },
    {
     "data": {
      "image/png": "[encoded data removed]",
      "text/plain": [
       "<Figure size 432x288 with 1 Axes>"
      ]
     },
     "metadata": {
      "needs_background": "light"
     },
     "output_type": "display_data"
    }
   ],
   "source": [
    "log_ret.plot()"
   ]
  },
  {
   "cell_type": "code",
   "execution_count": 30,
   "metadata": {},
   "outputs": [],
   "source": [
    "#compute volatility using pandas rolling std dev function\n",
    "nifty_df['volatility']=log_ret.rolling(window=252).std()*np.sqrt(252)"
   ]
  },
  {
   "cell_type": "code",
   "execution_count": 31,
   "metadata": {},
   "outputs": [
    {
     "data": {
      "text/plain": [
       "<matplotlib.axes._subplots.AxesSubplot at 0x1248e9d90>"
      ]
     },
     "execution_count": 31,
     "metadata": {},
     "output_type": "execute_result"
    },
    {
     "data": {
      "image/png": "[encoded data removed]",
      "text/plain": [
       "<Figure size 432x288 with 1 Axes>"
      ]
     },
     "metadata": {
      "needs_background": "light"
     },
     "output_type": "display_data"
    }
   ],
   "source": [
    "nifty_df['volatility'].plot()"
   ]
  },
  {
   "cell_type": "markdown",
   "metadata": {},
   "source": [
    "# sharpe ratio"
   ]
  },
  {
   "cell_type": "code",
   "execution_count": 33,
   "metadata": {},
   "outputs": [],
   "source": [
    "def sharpe_ratio(returns,rf,days=252):\n",
    "    \"\"\"\n",
    "    rf-risk free return\n",
    "    sampling per day :days 252\n",
    "    sampling per week: weeks 52\n",
    "    sampling per month: months 12\n",
    "    \"\"\"\n",
    "    volatility=returns.std()*np.sqrt(days)\n",
    "    sharpe_ratio=(returns.mean()-rf)/volatility\n",
    "    return sharpe_ratio\n",
    "    "
   ]
  },
  {
   "cell_type": "markdown",
   "metadata": {},
   "source": [
    "# Information ratio"
   ]
  },
  {
   "cell_type": "markdown",
   "metadata": {},
   "source": [
    "It measures a trader’s ability to generate excess returns relative to a benchmark."
   ]
  },
  {
   "cell_type": "code",
   "execution_count": 34,
   "metadata": {},
   "outputs": [],
   "source": [
    "def info_ratio(returns,benchmark_returns,days=252):\n",
    "    \"\"\"\n",
    "    benchmark return\n",
    "    \n",
    "    \"\"\"\n",
    "    return_diff=returns-benchmark_returns\n",
    "    volatility=return_diff.std()*np.sqrt(days)\n",
    "    information_ratio=return_diff.mean()/volatility\n",
    "    return information_ratio"
   ]
  },
  {
   "cell_type": "markdown",
   "metadata": {},
   "source": [
    "# Modigliani ratio (M2 ratio)"
   ]
  },
  {
   "cell_type": "markdown",
   "metadata": {},
   "source": [
    "The Modigliani ratio measures the returns of the portfolio, adjusted for the risk of the portfolio relative to that of some benchmark.\n",
    "\n",
    "To calculate the M2 ratio, we first calculate the Sharpe ratio and then multiply it by the annualized standard deviation of a chosen benchmark. We then add the risk-free rate to the derived value to give M2 ratio."
   ]
  },
  {
   "cell_type": "code",
   "execution_count": 35,
   "metadata": {},
   "outputs": [],
   "source": [
    "def modigilani_ratio(returns,benchmark_returns,rf,days=252):\n",
    "    volatility=returns.std()*np.sqrt(days)\n",
    "    sharpe_ratio=(returns.mean()-rf)/volatility\n",
    "    benchmark_volatility=benchmark_returns.std()*np.sqrt(days)\n",
    "    m2_ratio=(sharpe_ratio*benchmark_volatility)+rf\n",
    "    return modigilani_ratio"
   ]
  },
  {
   "cell_type": "code",
   "execution_count": null,
   "metadata": {},
   "outputs": [],
   "source": []
  }
 ],
 "metadata": {
  "kernelspec": {
   "display_name": "Python 2",
   "language": "python",
   "name": "python2"
  },
  "language_info": {
   "codemirror_mode": {
    "name": "ipython",
    "version": 2
   },
   "file_extension": ".py",
   "mimetype": "text/x-python",
   "name": "python",
   "nbconvert_exporter": "python",
   "pygments_lexer": "ipython2",
   "version": "2.7.15"
  }
 },
 "nbformat": 4,
 "nbformat_minor": 2
}

{
 "cells": [
  {
   "cell_type": "markdown",
   "metadata": {},
   "source": [
    "https://www.datacamp.com/community/tutorials/finance-python-trading"
   ]
  },
  {
   "cell_type": "code",
   "execution_count": 1,
   "metadata": {},
   "outputs": [],
   "source": [
    "import numpy as np\n",
    "import pandas as pd\n",
    "import matplotlib.pyplot as plt\n",
    "%matplotlib inline"
   ]
  },
  {
   "cell_type": "code",
   "execution_count": 3,
   "metadata": {},
   "outputs": [],
   "source": [
    "import pandas_datareader as pdr"
   ]
  },
  {
   "cell_type": "code",
   "execution_count": 4,
   "metadata": {},
   "outputs": [],
   "source": [
    "import seaborn as sns"
   ]
  },
  {
   "cell_type": "code",
   "execution_count": 5,
   "metadata": {},
   "outputs": [],
   "source": [
    "import datetime"
   ]
  },
  {
   "cell_type": "code",
   "execution_count": 7,
   "metadata": {},
   "outputs": [],
   "source": [
    "aapl=pdr.get_data_yahoo('AAPL',start=datetime.datetime(2006,10,1),end=datetime.datetime(2012,1,1))"
   ]
  },
  {
   "cell_type": "code",
   "execution_count": 8,
   "metadata": {},
   "outputs": [
    {
     "data": {
      "text/html": [
       "<div>\n",
       "<style scoped>\n",
       "    .dataframe tbody tr th:only-of-type {\n",
       "        vertical-align: middle;\n",
       "    }\n",
       "\n",
       "    .dataframe tbody tr th {\n",
       "        vertical-align: top;\n",
       "    }\n",
       "\n",
       "    .dataframe thead th {\n",
       "        text-align: right;\n",
       "    }\n",
       "</style>\n",
       "<table border=\"1\" class=\"dataframe\">\n",
       "  <thead>\n",
       "    <tr style=\"text-align: right;\">\n",
       "      <th></th>\n",
       "      <th>High</th>\n",
       "      <th>Low</th>\n",
       "      <th>Open</th>\n",
       "      <th>Close</th>\n",
       "      <th>Volume</th>\n",
       "      <th>Adj Close</th>\n",
       "    </tr>\n",
       "    <tr>\n",
       "      <th>Date</th>\n",
       "      <th></th>\n",
       "      <th></th>\n",
       "      <th></th>\n",
       "      <th></th>\n",
       "      <th></th>\n",
       "      <th></th>\n",
       "    </tr>\n",
       "  </thead>\n",
       "  <tbody>\n",
       "    <tr>\n",
       "      <th>2006-10-02</th>\n",
       "      <td>10.838572</td>\n",
       "      <td>10.614285</td>\n",
       "      <td>10.728572</td>\n",
       "      <td>10.694285</td>\n",
       "      <td>178159800</td>\n",
       "      <td>9.305108</td>\n",
       "    </tr>\n",
       "    <tr>\n",
       "      <th>2006-10-03</th>\n",
       "      <td>10.707143</td>\n",
       "      <td>10.455714</td>\n",
       "      <td>10.635715</td>\n",
       "      <td>10.582857</td>\n",
       "      <td>197677200</td>\n",
       "      <td>9.208156</td>\n",
       "    </tr>\n",
       "    <tr>\n",
       "      <th>2006-10-04</th>\n",
       "      <td>10.780000</td>\n",
       "      <td>10.451428</td>\n",
       "      <td>10.585714</td>\n",
       "      <td>10.768572</td>\n",
       "      <td>207270700</td>\n",
       "      <td>9.369746</td>\n",
       "    </tr>\n",
       "    <tr>\n",
       "      <th>2006-10-05</th>\n",
       "      <td>10.880000</td>\n",
       "      <td>10.590000</td>\n",
       "      <td>10.647142</td>\n",
       "      <td>10.690000</td>\n",
       "      <td>170970800</td>\n",
       "      <td>9.301377</td>\n",
       "    </tr>\n",
       "    <tr>\n",
       "      <th>2006-10-06</th>\n",
       "      <td>10.720000</td>\n",
       "      <td>10.544286</td>\n",
       "      <td>10.631429</td>\n",
       "      <td>10.602858</td>\n",
       "      <td>116739700</td>\n",
       "      <td>9.225556</td>\n",
       "    </tr>\n",
       "  </tbody>\n",
       "</table>\n",
       "</div>"
      ],
      "text/plain": [
       "                 High        Low       Open      Close     Volume  Adj Close\n",
       "Date                                                                        \n",
       "2006-10-02  10.838572  10.614285  10.728572  10.694285  178159800   9.305108\n",
       "2006-10-03  10.707143  10.455714  10.635715  10.582857  197677200   9.208156\n",
       "2006-10-04  10.780000  10.451428  10.585714  10.768572  207270700   9.369746\n",
       "2006-10-05  10.880000  10.590000  10.647142  10.690000  170970800   9.301377\n",
       "2006-10-06  10.720000  10.544286  10.631429  10.602858  116739700   9.225556"
      ]
     },
     "execution_count": 8,
     "metadata": {},
     "output_type": "execute_result"
    }
   ],
   "source": [
    "aapl.head()"
   ]
  },
  {
   "cell_type": "code",
   "execution_count": 9,
   "metadata": {},
   "outputs": [
    {
     "data": {
      "text/html": [
       "<div>\n",
       "<style scoped>\n",
       "    .dataframe tbody tr th:only-of-type {\n",
       "        vertical-align: middle;\n",
       "    }\n",
       "\n",
       "    .dataframe tbody tr th {\n",
       "        vertical-align: top;\n",
       "    }\n",
       "\n",
       "    .dataframe thead th {\n",
       "        text-align: right;\n",
       "    }\n",
       "</style>\n",
       "<table border=\"1\" class=\"dataframe\">\n",
       "  <thead>\n",
       "    <tr style=\"text-align: right;\">\n",
       "      <th></th>\n",
       "      <th>High</th>\n",
       "      <th>Low</th>\n",
       "      <th>Open</th>\n",
       "      <th>Close</th>\n",
       "      <th>Volume</th>\n",
       "      <th>Adj Close</th>\n",
       "    </tr>\n",
       "    <tr>\n",
       "      <th>Date</th>\n",
       "      <th></th>\n",
       "      <th></th>\n",
       "      <th></th>\n",
       "      <th></th>\n",
       "      <th></th>\n",
       "      <th></th>\n",
       "    </tr>\n",
       "  </thead>\n",
       "  <tbody>\n",
       "    <tr>\n",
       "      <th>2011-12-23</th>\n",
       "      <td>57.655716</td>\n",
       "      <td>57.070000</td>\n",
       "      <td>57.098572</td>\n",
       "      <td>57.618572</td>\n",
       "      <td>67349800</td>\n",
       "      <td>50.133961</td>\n",
       "    </tr>\n",
       "    <tr>\n",
       "      <th>2011-12-27</th>\n",
       "      <td>58.441429</td>\n",
       "      <td>57.574287</td>\n",
       "      <td>57.585712</td>\n",
       "      <td>58.075714</td>\n",
       "      <td>66269000</td>\n",
       "      <td>50.531731</td>\n",
       "    </tr>\n",
       "    <tr>\n",
       "      <th>2011-12-28</th>\n",
       "      <td>58.321430</td>\n",
       "      <td>57.334286</td>\n",
       "      <td>58.127144</td>\n",
       "      <td>57.520000</td>\n",
       "      <td>57165500</td>\n",
       "      <td>50.048210</td>\n",
       "    </tr>\n",
       "    <tr>\n",
       "      <th>2011-12-29</th>\n",
       "      <td>57.950001</td>\n",
       "      <td>57.215714</td>\n",
       "      <td>57.628571</td>\n",
       "      <td>57.874287</td>\n",
       "      <td>53994500</td>\n",
       "      <td>50.356480</td>\n",
       "    </tr>\n",
       "    <tr>\n",
       "      <th>2011-12-30</th>\n",
       "      <td>58.040001</td>\n",
       "      <td>57.641430</td>\n",
       "      <td>57.644287</td>\n",
       "      <td>57.857143</td>\n",
       "      <td>44915500</td>\n",
       "      <td>50.341557</td>\n",
       "    </tr>\n",
       "  </tbody>\n",
       "</table>\n",
       "</div>"
      ],
      "text/plain": [
       "                 High        Low       Open      Close    Volume  Adj Close\n",
       "Date                                                                       \n",
       "2011-12-23  57.655716  57.070000  57.098572  57.618572  67349800  50.133961\n",
       "2011-12-27  58.441429  57.574287  57.585712  58.075714  66269000  50.531731\n",
       "2011-12-28  58.321430  57.334286  58.127144  57.520000  57165500  50.048210\n",
       "2011-12-29  57.950001  57.215714  57.628571  57.874287  53994500  50.356480\n",
       "2011-12-30  58.040001  57.641430  57.644287  57.857143  44915500  50.341557"
      ]
     },
     "execution_count": 9,
     "metadata": {},
     "output_type": "execute_result"
    }
   ],
   "source": [
    "aapl.tail()"
   ]
  },
  {
   "cell_type": "code",
   "execution_count": 10,
   "metadata": {},
   "outputs": [],
   "source": [
    "#import quandl \n",
    "#aapl = quandl.get(\"WIKI/AAPL\", start_date=\"2006-10-01\", end_date=\"2012-01-01\")"
   ]
  },
  {
   "cell_type": "code",
   "execution_count": 11,
   "metadata": {},
   "outputs": [
    {
     "data": {
      "text/html": [
       "<div>\n",
       "<style scoped>\n",
       "    .dataframe tbody tr th:only-of-type {\n",
       "        vertical-align: middle;\n",
       "    }\n",
       "\n",
       "    .dataframe tbody tr th {\n",
       "        vertical-align: top;\n",
       "    }\n",
       "\n",
       "    .dataframe thead th {\n",
       "        text-align: right;\n",
       "    }\n",
       "</style>\n",
       "<table border=\"1\" class=\"dataframe\">\n",
       "  <thead>\n",
       "    <tr style=\"text-align: right;\">\n",
       "      <th></th>\n",
       "      <th>High</th>\n",
       "      <th>Low</th>\n",
       "      <th>Open</th>\n",
       "      <th>Close</th>\n",
       "      <th>Volume</th>\n",
       "      <th>Adj Close</th>\n",
       "    </tr>\n",
       "  </thead>\n",
       "  <tbody>\n",
       "    <tr>\n",
       "      <th>count</th>\n",
       "      <td>1323.000000</td>\n",
       "      <td>1323.000000</td>\n",
       "      <td>1323.000000</td>\n",
       "      <td>1323.000000</td>\n",
       "      <td>1.323000e+03</td>\n",
       "      <td>1323.000000</td>\n",
       "    </tr>\n",
       "    <tr>\n",
       "      <th>mean</th>\n",
       "      <td>29.237566</td>\n",
       "      <td>28.507684</td>\n",
       "      <td>28.901012</td>\n",
       "      <td>28.889151</td>\n",
       "      <td>1.882896e+08</td>\n",
       "      <td>25.136478</td>\n",
       "    </tr>\n",
       "    <tr>\n",
       "      <th>std</th>\n",
       "      <td>14.199012</td>\n",
       "      <td>14.029758</td>\n",
       "      <td>14.123131</td>\n",
       "      <td>14.119734</td>\n",
       "      <td>1.027007e+08</td>\n",
       "      <td>12.285593</td>\n",
       "    </tr>\n",
       "    <tr>\n",
       "      <th>min</th>\n",
       "      <td>10.568571</td>\n",
       "      <td>10.371428</td>\n",
       "      <td>10.488571</td>\n",
       "      <td>10.461429</td>\n",
       "      <td>3.937360e+07</td>\n",
       "      <td>9.102497</td>\n",
       "    </tr>\n",
       "    <tr>\n",
       "      <th>25%</th>\n",
       "      <td>17.752857</td>\n",
       "      <td>17.182143</td>\n",
       "      <td>17.457857</td>\n",
       "      <td>17.431429</td>\n",
       "      <td>1.122037e+08</td>\n",
       "      <td>15.167106</td>\n",
       "    </tr>\n",
       "    <tr>\n",
       "      <th>50%</th>\n",
       "      <td>25.642857</td>\n",
       "      <td>24.725714</td>\n",
       "      <td>25.260000</td>\n",
       "      <td>25.120001</td>\n",
       "      <td>1.629866e+08</td>\n",
       "      <td>21.856936</td>\n",
       "    </tr>\n",
       "    <tr>\n",
       "      <th>75%</th>\n",
       "      <td>39.132858</td>\n",
       "      <td>38.351429</td>\n",
       "      <td>38.777143</td>\n",
       "      <td>38.699999</td>\n",
       "      <td>2.316230e+08</td>\n",
       "      <td>33.672901</td>\n",
       "    </tr>\n",
       "    <tr>\n",
       "      <th>max</th>\n",
       "      <td>60.957142</td>\n",
       "      <td>59.427143</td>\n",
       "      <td>60.251427</td>\n",
       "      <td>60.320000</td>\n",
       "      <td>8.432424e+08</td>\n",
       "      <td>52.484486</td>\n",
       "    </tr>\n",
       "  </tbody>\n",
       "</table>\n",
       "</div>"
      ],
      "text/plain": [
       "              High          Low         Open        Close        Volume  \\\n",
       "count  1323.000000  1323.000000  1323.000000  1323.000000  1.323000e+03   \n",
       "mean     29.237566    28.507684    28.901012    28.889151  1.882896e+08   \n",
       "std      14.199012    14.029758    14.123131    14.119734  1.027007e+08   \n",
       "min      10.568571    10.371428    10.488571    10.461429  3.937360e+07   \n",
       "25%      17.752857    17.182143    17.457857    17.431429  1.122037e+08   \n",
       "50%      25.642857    24.725714    25.260000    25.120001  1.629866e+08   \n",
       "75%      39.132858    38.351429    38.777143    38.699999  2.316230e+08   \n",
       "max      60.957142    59.427143    60.251427    60.320000  8.432424e+08   \n",
       "\n",
       "         Adj Close  \n",
       "count  1323.000000  \n",
       "mean     25.136478  \n",
       "std      12.285593  \n",
       "min       9.102497  \n",
       "25%      15.167106  \n",
       "50%      21.856936  \n",
       "75%      33.672901  \n",
       "max      52.484486  "
      ]
     },
     "execution_count": 11,
     "metadata": {},
     "output_type": "execute_result"
    }
   ],
   "source": [
    "aapl.describe()"
   ]
  },
  {
   "cell_type": "code",
   "execution_count": 12,
   "metadata": {},
   "outputs": [],
   "source": [
    "#save data to csv\n",
    "#import pandas as pd\n",
    "#aapl.to_csv('data/aapl_ohlc.csv')\n",
    "#df = pd.read_csv('data/aapl_ohlc.csv', header=0, index_col='Date', parse_dates=True)"
   ]
  },
  {
   "cell_type": "code",
   "execution_count": 13,
   "metadata": {},
   "outputs": [
    {
     "data": {
      "text/plain": [
       "DatetimeIndex(['2006-10-02', '2006-10-03', '2006-10-04', '2006-10-05',\n",
       "               '2006-10-06', '2006-10-09', '2006-10-10', '2006-10-11',\n",
       "               '2006-10-12', '2006-10-13',\n",
       "               ...\n",
       "               '2011-12-16', '2011-12-19', '2011-12-20', '2011-12-21',\n",
       "               '2011-12-22', '2011-12-23', '2011-12-27', '2011-12-28',\n",
       "               '2011-12-29', '2011-12-30'],\n",
       "              dtype='datetime64[ns]', name='Date', length=1323, freq=None)"
      ]
     },
     "execution_count": 13,
     "metadata": {},
     "output_type": "execute_result"
    }
   ],
   "source": [
    "aapl.index"
   ]
  },
  {
   "cell_type": "code",
   "execution_count": 14,
   "metadata": {},
   "outputs": [
    {
     "data": {
      "text/plain": [
       "Index(['High', 'Low', 'Open', 'Close', 'Volume', 'Adj Close'], dtype='object')"
      ]
     },
     "execution_count": 14,
     "metadata": {},
     "output_type": "execute_result"
    }
   ],
   "source": [
    "aapl.columns"
   ]
  },
  {
   "cell_type": "code",
   "execution_count": 15,
   "metadata": {},
   "outputs": [],
   "source": [
    "ts=aapl.Close[-10:]"
   ]
  },
  {
   "cell_type": "code",
   "execution_count": 16,
   "metadata": {},
   "outputs": [
    {
     "data": {
      "text/plain": [
       "Date\n",
       "2011-12-16    54.431427\n",
       "2011-12-19    54.601429\n",
       "2011-12-20    56.564285\n",
       "2011-12-21    56.635715\n",
       "2011-12-22    56.935715\n",
       "2011-12-23    57.618572\n",
       "2011-12-27    58.075714\n",
       "2011-12-28    57.520000\n",
       "2011-12-29    57.874287\n",
       "2011-12-30    57.857143\n",
       "Name: Close, dtype: float64"
      ]
     },
     "execution_count": 16,
     "metadata": {},
     "output_type": "execute_result"
    }
   ],
   "source": [
    "ts"
   ]
  },
  {
   "cell_type": "code",
   "execution_count": 17,
   "metadata": {},
   "outputs": [
    {
     "data": {
      "text/plain": [
       "pandas.core.series.Series"
      ]
     },
     "execution_count": 17,
     "metadata": {},
     "output_type": "execute_result"
    }
   ],
   "source": [
    "type(ts)"
   ]
  },
  {
   "cell_type": "code",
   "execution_count": 22,
   "metadata": {},
   "outputs": [
    {
     "name": "stdout",
     "output_type": "stream",
     "text": [
      "                 High        Low       Open      Close     Volume  Adj Close\n",
      "Date                                                                        \n",
      "2006-11-01  11.625714  11.194285  11.585714  11.308572  152798100   9.839600\n",
      "2006-11-02  11.331429  11.214286  11.274285  11.282857  116370800   9.817224\n",
      "2006-11-03  11.361428  11.112857  11.337143  11.184286  107972200   9.731457\n",
      "2006-11-06  11.437143  11.204286  11.278571  11.387143  108644200   9.907964\n",
      "2006-11-07  11.571428  11.447143  11.492857  11.501429  131483100  10.007404\n"
     ]
    }
   ],
   "source": [
    "# Inspect the first rows of November-December 2006\n",
    "print(aapl.loc[pd.Timestamp('2006-11-1'):pd.Timestamp('2006-12-31')].head())"
   ]
  },
  {
   "cell_type": "code",
   "execution_count": 24,
   "metadata": {},
   "outputs": [
    {
     "name": "stdout",
     "output_type": "stream",
     "text": [
      "                 High        Low       Open      Close     Volume  Adj Close\n",
      "Date                                                                        \n",
      "2007-01-03  12.368571  11.700000  12.327143  11.971429  309579900  10.416352\n",
      "2007-01-04  12.278571  11.974286  12.007143  12.237143  211815100  10.647548\n",
      "2007-01-05  12.314285  12.057143  12.252857  12.150000  208685400  10.571726\n",
      "2007-01-08  12.361428  12.182858  12.280000  12.210000  199276700  10.623935\n",
      "2007-01-09  13.282857  12.164286  12.350000  13.224286  837324600  11.506466\n"
     ]
    }
   ],
   "source": [
    "# Inspect the first rows of 2007 \n",
    "print(aapl.loc['2007'].head())\n"
   ]
  },
  {
   "cell_type": "code",
   "execution_count": 25,
   "metadata": {},
   "outputs": [
    {
     "name": "stdout",
     "output_type": "stream",
     "text": [
      "Date\n",
      "2006-11-01    11.308572\n",
      "2006-11-02    11.282857\n",
      "2006-11-03    11.184286\n",
      "2006-11-06    11.387143\n",
      "2006-11-07    11.501429\n",
      "2006-11-08    11.778571\n",
      "2006-11-09    11.905714\n",
      "2006-11-10    11.874286\n",
      "2006-11-13    12.050000\n",
      "2006-11-14    12.142858\n",
      "2006-11-15    12.007143\n",
      "2006-11-16    12.230000\n",
      "2006-11-17    12.264286\n",
      "2006-11-20    12.352858\n",
      "2006-11-21    12.657143\n",
      "2006-11-22    12.901428\n",
      "2006-11-24    13.090000\n",
      "2006-11-27    12.791429\n",
      "2006-11-28    13.115714\n",
      "2006-11-29    13.114285\n",
      "2006-11-30    13.094286\n",
      "Name: Close, dtype: float64\n"
     ]
    }
   ],
   "source": [
    "# Inspect November 2006\n",
    "print(aapl.Close.iloc[22:43])"
   ]
  },
  {
   "cell_type": "code",
   "execution_count": 34,
   "metadata": {},
   "outputs": [
    {
     "name": "stdout",
     "output_type": "stream",
     "text": [
      "                 Open      Close\n",
      "Date                            \n",
      "2006-11-01  11.585714  11.308572\n",
      "2006-12-01  13.114285  13.045714\n"
     ]
    }
   ],
   "source": [
    "# Inspect the 'Open' and 'Close' values at 2006-11-01 and 2006-12-01\n",
    "print(aapl.iloc[[22,43],[2,3]])"
   ]
  },
  {
   "cell_type": "code",
   "execution_count": 35,
   "metadata": {},
   "outputs": [],
   "source": [
    "aapl['diff']=aapl['Open']-aapl['Close']"
   ]
  },
  {
   "cell_type": "code",
   "execution_count": 36,
   "metadata": {},
   "outputs": [
    {
     "data": {
      "text/html": [
       "<div>\n",
       "<style scoped>\n",
       "    .dataframe tbody tr th:only-of-type {\n",
       "        vertical-align: middle;\n",
       "    }\n",
       "\n",
       "    .dataframe tbody tr th {\n",
       "        vertical-align: top;\n",
       "    }\n",
       "\n",
       "    .dataframe thead th {\n",
       "        text-align: right;\n",
       "    }\n",
       "</style>\n",
       "<table border=\"1\" class=\"dataframe\">\n",
       "  <thead>\n",
       "    <tr style=\"text-align: right;\">\n",
       "      <th></th>\n",
       "      <th>High</th>\n",
       "      <th>Low</th>\n",
       "      <th>Open</th>\n",
       "      <th>Close</th>\n",
       "      <th>Volume</th>\n",
       "      <th>Adj Close</th>\n",
       "      <th>diff</th>\n",
       "    </tr>\n",
       "    <tr>\n",
       "      <th>Date</th>\n",
       "      <th></th>\n",
       "      <th></th>\n",
       "      <th></th>\n",
       "      <th></th>\n",
       "      <th></th>\n",
       "      <th></th>\n",
       "      <th></th>\n",
       "    </tr>\n",
       "  </thead>\n",
       "  <tbody>\n",
       "    <tr>\n",
       "      <th>2006-10-02</th>\n",
       "      <td>10.838572</td>\n",
       "      <td>10.614285</td>\n",
       "      <td>10.728572</td>\n",
       "      <td>10.694285</td>\n",
       "      <td>178159800</td>\n",
       "      <td>9.305108</td>\n",
       "      <td>0.034286</td>\n",
       "    </tr>\n",
       "    <tr>\n",
       "      <th>2006-10-03</th>\n",
       "      <td>10.707143</td>\n",
       "      <td>10.455714</td>\n",
       "      <td>10.635715</td>\n",
       "      <td>10.582857</td>\n",
       "      <td>197677200</td>\n",
       "      <td>9.208156</td>\n",
       "      <td>0.052857</td>\n",
       "    </tr>\n",
       "    <tr>\n",
       "      <th>2006-10-04</th>\n",
       "      <td>10.780000</td>\n",
       "      <td>10.451428</td>\n",
       "      <td>10.585714</td>\n",
       "      <td>10.768572</td>\n",
       "      <td>207270700</td>\n",
       "      <td>9.369746</td>\n",
       "      <td>-0.182858</td>\n",
       "    </tr>\n",
       "    <tr>\n",
       "      <th>2006-10-05</th>\n",
       "      <td>10.880000</td>\n",
       "      <td>10.590000</td>\n",
       "      <td>10.647142</td>\n",
       "      <td>10.690000</td>\n",
       "      <td>170970800</td>\n",
       "      <td>9.301377</td>\n",
       "      <td>-0.042857</td>\n",
       "    </tr>\n",
       "    <tr>\n",
       "      <th>2006-10-06</th>\n",
       "      <td>10.720000</td>\n",
       "      <td>10.544286</td>\n",
       "      <td>10.631429</td>\n",
       "      <td>10.602858</td>\n",
       "      <td>116739700</td>\n",
       "      <td>9.225556</td>\n",
       "      <td>0.028571</td>\n",
       "    </tr>\n",
       "  </tbody>\n",
       "</table>\n",
       "</div>"
      ],
      "text/plain": [
       "                 High        Low       Open      Close     Volume  Adj Close  \\\n",
       "Date                                                                           \n",
       "2006-10-02  10.838572  10.614285  10.728572  10.694285  178159800   9.305108   \n",
       "2006-10-03  10.707143  10.455714  10.635715  10.582857  197677200   9.208156   \n",
       "2006-10-04  10.780000  10.451428  10.585714  10.768572  207270700   9.369746   \n",
       "2006-10-05  10.880000  10.590000  10.647142  10.690000  170970800   9.301377   \n",
       "2006-10-06  10.720000  10.544286  10.631429  10.602858  116739700   9.225556   \n",
       "\n",
       "                diff  \n",
       "Date                  \n",
       "2006-10-02  0.034286  \n",
       "2006-10-03  0.052857  \n",
       "2006-10-04 -0.182858  \n",
       "2006-10-05 -0.042857  \n",
       "2006-10-06  0.028571  "
      ]
     },
     "execution_count": 36,
     "metadata": {},
     "output_type": "execute_result"
    }
   ],
   "source": [
    "aapl.head()"
   ]
  },
  {
   "cell_type": "markdown",
   "metadata": {},
   "source": [
    "# visualize Data"
   ]
  },
  {
   "cell_type": "code",
   "execution_count": 39,
   "metadata": {},
   "outputs": [
    {
     "data": {
      "image/png": "[encoded data removed]",
      "text/plain": [
       "<Figure size 864x432 with 1 Axes>"
      ]
     },
     "metadata": {
      "needs_background": "light"
     },
     "output_type": "display_data"
    }
   ],
   "source": [
    "plt.figure(figsize=(12,6))\n",
    "plt.plot(aapl['Close'])\n",
    "plt.grid()"
   ]
  },
  {
   "cell_type": "markdown",
   "metadata": {},
   "source": [
    "# Common Financial Analysis"
   ]
  },
  {
   "cell_type": "markdown",
   "metadata": {},
   "source": [
    "* returns\n",
    "* moving windows\n",
    "* volatility calculation\n",
    "* Ordinary Least-Squares Regression (OLS)."
   ]
  },
  {
   "cell_type": "markdown",
   "metadata": {},
   "source": [
    "# Returns"
   ]
  },
  {
   "cell_type": "markdown",
   "metadata": {},
   "source": [
    "# Daily"
   ]
  },
  {
   "cell_type": "code",
   "execution_count": 45,
   "metadata": {},
   "outputs": [
    {
     "data": {
      "text/plain": [
       "Date\n",
       "2006-10-02    0.000000\n",
       "2006-10-03   -0.010419\n",
       "2006-10-04    0.017549\n",
       "2006-10-05   -0.007297\n",
       "2006-10-06   -0.008152\n",
       "Name: Adj Close, dtype: float64"
      ]
     },
     "execution_count": 45,
     "metadata": {},
     "output_type": "execute_result"
    }
   ],
   "source": [
    "daily_close=aapl['Adj Close']\n",
    "daily_pct_chg=daily_close.pct_change()\n",
    "#replace na values with 0\n",
    "daily_pct_chg.fillna(0,inplace=True)\n",
    "daily_pct_chg.head()"
   ]
  },
  {
   "cell_type": "markdown",
   "metadata": {},
   "source": [
    "# distribution of daily_pct_change"
   ]
  },
  {
   "cell_type": "code",
   "execution_count": 70,
   "metadata": {},
   "outputs": [
    {
     "data": {
      "text/plain": [
       "(array([  1.,   0.,   0.,   0.,   0.,   0.,   0.,   0.,   0.,   0.,   0.,\n",
       "          1.,   0.,   1.,   1.,   1.,   1.,   7.,   4.,  10.,  14.,  23.,\n",
       "         20.,  31.,  66.,  92., 120., 188., 190., 166., 129.,  81.,  62.,\n",
       "         43.,  25.,  18.,   2.,  10.,   7.,   1.,   2.,   2.,   1.,   0.,\n",
       "          1.,   0.,   0.,   1.,   0.,   1.]),\n",
       " array([-0.17919523, -0.17283034, -0.16646544, -0.16010055, -0.15373566,\n",
       "        -0.14737076, -0.14100587, -0.13464097, -0.12827608, -0.12191119,\n",
       "        -0.11554629, -0.1091814 , -0.1028165 , -0.09645161, -0.09008672,\n",
       "        -0.08372182, -0.07735693, -0.07099203, -0.06462714, -0.05826225,\n",
       "        -0.05189735, -0.04553246, -0.03916756, -0.03280267, -0.02643778,\n",
       "        -0.02007288, -0.01370799, -0.00734309, -0.0009782 ,  0.00538669,\n",
       "         0.01175159,  0.01811648,  0.02448138,  0.03084627,  0.03721116,\n",
       "         0.04357606,  0.04994095,  0.05630585,  0.06267074,  0.06903563,\n",
       "         0.07540053,  0.08176542,  0.08813032,  0.09449521,  0.1008601 ,\n",
       "         0.107225  ,  0.11358989,  0.11995479,  0.12631968,  0.13268457,\n",
       "         0.13904947]),\n",
       " <a list of 50 Patch objects>)"
      ]
     },
     "execution_count": 70,
     "metadata": {},
     "output_type": "execute_result"
    },
    {
     "data": {
      "image/png": "[encoded data removed]",
      "text/plain": [
       "<Figure size 432x288 with 1 Axes>"
      ]
     },
     "metadata": {
      "needs_background": "light"
     },
     "output_type": "display_data"
    }
   ],
   "source": [
    "plt.hist(daily_pct_chg,bins=50)"
   ]
  },
  {
   "cell_type": "code",
   "execution_count": 72,
   "metadata": {},
   "outputs": [
    {
     "name": "stdout",
     "output_type": "stream",
     "text": [
      "count    1323.000000\n",
      "mean        0.001565\n",
      "std         0.023983\n",
      "min        -0.179195\n",
      "25%        -0.010661\n",
      "50%         0.001646\n",
      "75%         0.014285\n",
      "max         0.139049\n",
      "Name: Adj Close, dtype: float64\n"
     ]
    }
   ],
   "source": [
    "print(daily_pct_chg.describe())"
   ]
  },
  {
   "cell_type": "markdown",
   "metadata": {},
   "source": [
    "# cumulative daily rate of return"
   ]
  },
  {
   "cell_type": "code",
   "execution_count": 73,
   "metadata": {},
   "outputs": [],
   "source": [
    "cum_daily_return=(1+daily_pct_chg).cumprod()"
   ]
  },
  {
   "cell_type": "code",
   "execution_count": 79,
   "metadata": {},
   "outputs": [
    {
     "data": {
      "text/plain": [
       "[<matplotlib.lines.Line2D at 0x1a20251be0>]"
      ]
     },
     "execution_count": 79,
     "metadata": {},
     "output_type": "execute_result"
    },
    {
     "data": {
      "image/png": "[encoded data removed]",
      "text/plain": [
       "<Figure size 864x288 with 1 Axes>"
      ]
     },
     "metadata": {
      "needs_background": "light"
     },
     "output_type": "display_data"
    }
   ],
   "source": [
    "plt.figure(figsize=(12,4))\n",
    "plt.plot(cum_daily_return)"
   ]
  },
  {
   "cell_type": "markdown",
   "metadata": {},
   "source": [
    "# Cumulative Monthly Return"
   ]
  },
  {
   "cell_type": "code",
   "execution_count": 80,
   "metadata": {},
   "outputs": [
    {
     "name": "stdout",
     "output_type": "stream",
     "text": [
      "Date\n",
      "2006-10-31    1.030269\n",
      "2006-11-30    1.140058\n",
      "2006-12-31    1.155110\n",
      "2007-01-31    1.187303\n",
      "2007-02-28    1.145176\n",
      "                ...   \n",
      "2011-08-31    5.032896\n",
      "2011-09-30    5.243032\n",
      "2011-10-31    5.306305\n",
      "2011-11-30    5.140465\n",
      "2011-12-31    5.248871\n",
      "Freq: M, Name: Adj Close, Length: 63, dtype: float64\n"
     ]
    }
   ],
   "source": [
    "# Resample the cumulative daily return to cumulative monthly return \n",
    "cum_monthly_return = cum_daily_return.resample(\"M\").mean()\n",
    "\n",
    "# Print the `cum_monthly_return`\n",
    "print(cum_monthly_return)"
   ]
  },
  {
   "cell_type": "code",
   "execution_count": 81,
   "metadata": {},
   "outputs": [
    {
     "data": {
      "text/plain": [
       "[<matplotlib.lines.Line2D at 0x1a2028da58>]"
      ]
     },
     "execution_count": 81,
     "metadata": {},
     "output_type": "execute_result"
    },
    {
     "data": {
      "image/png": "[encoded data removed]",
      "text/plain": [
       "<Figure size 864x288 with 1 Axes>"
      ]
     },
     "metadata": {
      "needs_background": "light"
     },
     "output_type": "display_data"
    }
   ],
   "source": [
    "plt.figure(figsize=(12,4))\n",
    "plt.plot(cum_monthly_return)"
   ]
  },
  {
   "cell_type": "code",
   "execution_count": null,
   "metadata": {},
   "outputs": [],
   "source": []
  },
  {
   "cell_type": "markdown",
   "metadata": {},
   "source": [
    "## Alternate method to calculate percentage change \n",
    "where return=r, p=price, t= time \n",
    "$$r_t=\\frac{p_t}{p_{t-1}}-1$$"
   ]
  },
  {
   "cell_type": "code",
   "execution_count": 64,
   "metadata": {},
   "outputs": [
    {
     "data": {
      "text/plain": [
       "Date\n",
       "2006-10-02         NaN\n",
       "2006-10-03   -0.010419\n",
       "2006-10-04    0.017549\n",
       "2006-10-05   -0.007297\n",
       "2006-10-06   -0.008152\n",
       "Name: Adj Close, dtype: float64"
      ]
     },
     "execution_count": 64,
     "metadata": {},
     "output_type": "execute_result"
    }
   ],
   "source": [
    "\n",
    "daily_pct_chg1=(daily_close/daily_close.shift(1))-1\n",
    "daily_pct_chg1.head()"
   ]
  },
  {
   "cell_type": "code",
   "execution_count": 48,
   "metadata": {},
   "outputs": [
    {
     "data": {
      "text/plain": [
       "Date\n",
       "2006-10-02         NaN\n",
       "2006-10-03   -0.010474\n",
       "2006-10-04    0.017396\n",
       "2006-10-05   -0.007324\n",
       "2006-10-06   -0.008185\n",
       "Name: Adj Close, dtype: float64"
      ]
     },
     "execution_count": 48,
     "metadata": {},
     "output_type": "execute_result"
    }
   ],
   "source": [
    "#daily log returns\n",
    "daily_log_returns=np.log(daily_close.pct_change()+1)\n",
    "daily_log_returns.head()"
   ]
  },
  {
   "cell_type": "markdown",
   "metadata": {},
   "source": [
    "# monthly or quarterly returns"
   ]
  },
  {
   "cell_type": "code",
   "execution_count": 52,
   "metadata": {},
   "outputs": [
    {
     "data": {
      "text/plain": [
       "Date\n",
       "2006-10-31    10.078254\n",
       "2006-11-30    11.393351\n",
       "2006-12-29    10.545625\n",
       "2007-01-31    10.656251\n",
       "2007-02-28    10.517034\n",
       "Freq: BM, Name: Adj Close, dtype: float64"
      ]
     },
     "execution_count": 52,
     "metadata": {},
     "output_type": "execute_result"
    }
   ],
   "source": [
    "monthly_close=aapl['Adj Close'].resample('BM').apply(lambda x:x[-1])\n",
    "monthly_close.head()"
   ]
  },
  {
   "cell_type": "markdown",
   "metadata": {},
   "source": [
    "# Monthly pct_change"
   ]
  },
  {
   "cell_type": "code",
   "execution_count": 53,
   "metadata": {},
   "outputs": [
    {
     "data": {
      "text/plain": [
       "Date\n",
       "2006-10-31         NaN\n",
       "2006-11-30    0.130489\n",
       "2006-12-29   -0.074405\n",
       "2007-01-31    0.010490\n",
       "2007-02-28   -0.013064\n",
       "Freq: BM, Name: Adj Close, dtype: float64"
      ]
     },
     "execution_count": 53,
     "metadata": {},
     "output_type": "execute_result"
    }
   ],
   "source": [
    "monthly_pct_change=monthly_close.pct_change()\n",
    "monthly_pct_change.head()"
   ]
  },
  {
   "cell_type": "markdown",
   "metadata": {},
   "source": [
    "# Quarterly Returns"
   ]
  },
  {
   "cell_type": "code",
   "execution_count": 58,
   "metadata": {},
   "outputs": [
    {
     "data": {
      "text/plain": [
       "Date\n",
       "2006-10-31    10.078254\n",
       "2007-02-28    10.517034\n",
       "2007-06-30    15.169593\n",
       "2007-10-31    23.610807\n",
       "2008-02-29    15.540001\n",
       "Freq: 4M, Name: Adj Close, dtype: float64"
      ]
     },
     "execution_count": 58,
     "metadata": {},
     "output_type": "execute_result"
    }
   ],
   "source": [
    "quarterly_close=aapl['Adj Close'].resample('4M').apply(lambda x:x[-1])\n",
    "quarterly_close.head()"
   ]
  },
  {
   "cell_type": "code",
   "execution_count": 59,
   "metadata": {},
   "outputs": [
    {
     "data": {
      "text/plain": [
       "Date\n",
       "2006-10-31         NaN\n",
       "2007-02-28    0.043537\n",
       "2007-06-30    0.442383\n",
       "2007-10-31    0.556456\n",
       "2008-02-29   -0.341827\n",
       "Freq: 4M, Name: Adj Close, dtype: float64"
      ]
     },
     "execution_count": 59,
     "metadata": {},
     "output_type": "execute_result"
    }
   ],
   "source": [
    "quarterly_close_pct_chg=quarterly_close.pct_change()\n",
    "quarterly_close_pct_chg.head()"
   ]
  },
  {
   "cell_type": "code",
   "execution_count": null,
   "metadata": {},
   "outputs": [],
   "source": []
  }
 ],
 "metadata": {
  "kernelspec": {
   "display_name": "Python 3",
   "language": "python",
   "name": "python3"
  },
  "language_info": {
   "codemirror_mode": {
    "name": "ipython",
    "version": 3
   },
   "file_extension": ".py",
   "mimetype": "text/x-python",
   "name": "python",
   "nbconvert_exporter": "python",
   "pygments_lexer": "ipython3",
   "version": "3.6.7"
  }
 },
 "nbformat": 4,
 "nbformat_minor": 2
}

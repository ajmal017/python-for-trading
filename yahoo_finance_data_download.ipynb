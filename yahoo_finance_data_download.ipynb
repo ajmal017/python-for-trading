{
 "cells": [
  {
   "cell_type": "markdown",
   "metadata": {},
   "source": [
    "https://aroussi.com/post/python-yahoo-finance"
   ]
  },
  {
   "cell_type": "code",
   "execution_count": 1,
   "metadata": {},
   "outputs": [],
   "source": [
    "import numpy as np\n",
    "import pandas as pd\n",
    "import matplotlib.pyplot as plt\n",
    "%matplotlib inline"
   ]
  },
  {
   "cell_type": "markdown",
   "metadata": {},
   "source": [
    "```\n",
    "csv_file=\"./data/AAPL.csv\"\n",
    "def test_run():\n",
    "    df=pd.read_csv(csv_file)\n",
    "    print(df)\n",
    "    printt(df.tail(5))\n",
    "    print(df.head(5))\n",
    "    print()\n",
    "\n",
    "if __name__==\"__main__\":\n",
    "    test_run()\n",
    "\n",
    "```"
   ]
  },
  {
   "cell_type": "code",
   "execution_count": 2,
   "metadata": {},
   "outputs": [],
   "source": [
    "import yfinance as yf"
   ]
  },
  {
   "cell_type": "code",
   "execution_count": 3,
   "metadata": {},
   "outputs": [
    {
     "name": "stdout",
     "output_type": "stream",
     "text": [
      "[*********************100%***********************]  1 of 1 completed\n"
     ]
    }
   ],
   "source": [
    "data = yf.download(\"AAPL\", start=\"2017-01-01\", end=\"2017-04-30\")"
   ]
  },
  {
   "cell_type": "code",
   "execution_count": 4,
   "metadata": {},
   "outputs": [
    {
     "data": {
      "text/html": [
       "<div>\n",
       "<style scoped>\n",
       "    .dataframe tbody tr th:only-of-type {\n",
       "        vertical-align: middle;\n",
       "    }\n",
       "\n",
       "    .dataframe tbody tr th {\n",
       "        vertical-align: top;\n",
       "    }\n",
       "\n",
       "    .dataframe thead th {\n",
       "        text-align: right;\n",
       "    }\n",
       "</style>\n",
       "<table border=\"1\" class=\"dataframe\">\n",
       "  <thead>\n",
       "    <tr style=\"text-align: right;\">\n",
       "      <th></th>\n",
       "      <th>Adj Close</th>\n",
       "      <th>Close</th>\n",
       "      <th>High</th>\n",
       "      <th>Low</th>\n",
       "      <th>Open</th>\n",
       "      <th>Volume</th>\n",
       "    </tr>\n",
       "    <tr>\n",
       "      <th>Date</th>\n",
       "      <th></th>\n",
       "      <th></th>\n",
       "      <th></th>\n",
       "      <th></th>\n",
       "      <th></th>\n",
       "      <th></th>\n",
       "    </tr>\n",
       "  </thead>\n",
       "  <tbody>\n",
       "    <tr>\n",
       "      <th>2017-01-03</th>\n",
       "      <td>110.392334</td>\n",
       "      <td>116.150002</td>\n",
       "      <td>116.330002</td>\n",
       "      <td>114.760002</td>\n",
       "      <td>115.800003</td>\n",
       "      <td>28781900</td>\n",
       "    </tr>\n",
       "    <tr>\n",
       "      <th>2017-01-04</th>\n",
       "      <td>110.268791</td>\n",
       "      <td>116.019997</td>\n",
       "      <td>116.510002</td>\n",
       "      <td>115.750000</td>\n",
       "      <td>115.849998</td>\n",
       "      <td>21118100</td>\n",
       "    </tr>\n",
       "    <tr>\n",
       "      <th>2017-01-05</th>\n",
       "      <td>110.829552</td>\n",
       "      <td>116.610001</td>\n",
       "      <td>116.860001</td>\n",
       "      <td>115.809998</td>\n",
       "      <td>115.919998</td>\n",
       "      <td>22193600</td>\n",
       "    </tr>\n",
       "    <tr>\n",
       "      <th>2017-01-06</th>\n",
       "      <td>112.065109</td>\n",
       "      <td>117.910004</td>\n",
       "      <td>118.160004</td>\n",
       "      <td>116.470001</td>\n",
       "      <td>116.779999</td>\n",
       "      <td>31751900</td>\n",
       "    </tr>\n",
       "    <tr>\n",
       "      <th>2017-01-09</th>\n",
       "      <td>113.091560</td>\n",
       "      <td>118.989998</td>\n",
       "      <td>119.430000</td>\n",
       "      <td>117.940002</td>\n",
       "      <td>117.949997</td>\n",
       "      <td>33561900</td>\n",
       "    </tr>\n",
       "  </tbody>\n",
       "</table>\n",
       "</div>"
      ],
      "text/plain": [
       "             Adj Close       Close        High         Low        Open  \\\n",
       "Date                                                                     \n",
       "2017-01-03  110.392334  116.150002  116.330002  114.760002  115.800003   \n",
       "2017-01-04  110.268791  116.019997  116.510002  115.750000  115.849998   \n",
       "2017-01-05  110.829552  116.610001  116.860001  115.809998  115.919998   \n",
       "2017-01-06  112.065109  117.910004  118.160004  116.470001  116.779999   \n",
       "2017-01-09  113.091560  118.989998  119.430000  117.940002  117.949997   \n",
       "\n",
       "              Volume  \n",
       "Date                  \n",
       "2017-01-03  28781900  \n",
       "2017-01-04  21118100  \n",
       "2017-01-05  22193600  \n",
       "2017-01-06  31751900  \n",
       "2017-01-09  33561900  "
      ]
     },
     "execution_count": 4,
     "metadata": {},
     "output_type": "execute_result"
    }
   ],
   "source": [
    "data.head()"
   ]
  },
  {
   "cell_type": "code",
   "execution_count": 5,
   "metadata": {},
   "outputs": [
    {
     "data": {
      "text/plain": [
       "144.77000427246094"
      ]
     },
     "execution_count": 5,
     "metadata": {},
     "output_type": "execute_result"
    }
   ],
   "source": [
    "data['Close'].max()"
   ]
  },
  {
   "cell_type": "code",
   "execution_count": 6,
   "metadata": {},
   "outputs": [
    {
     "data": {
      "text/plain": [
       "25592877.777777776"
      ]
     },
     "execution_count": 6,
     "metadata": {},
     "output_type": "execute_result"
    }
   ],
   "source": [
    "data['Volume'].mean()"
   ]
  },
  {
   "cell_type": "code",
   "execution_count": 7,
   "metadata": {},
   "outputs": [
    {
     "data": {
      "image/png": "[encoded data removed]",
      "text/plain": [
       "<Figure size 432x288 with 1 Axes>"
      ]
     },
     "metadata": {
      "needs_background": "light"
     },
     "output_type": "display_data"
    }
   ],
   "source": [
    "data['Adj Close'].plot()\n",
    "plt.show()"
   ]
  },
  {
   "cell_type": "code",
   "execution_count": 8,
   "metadata": {},
   "outputs": [
    {
     "data": {
      "image/png": "[encoded data removed]",
      "text/plain": [
       "<Figure size 432x288 with 1 Axes>"
      ]
     },
     "metadata": {
      "needs_background": "light"
     },
     "output_type": "display_data"
    }
   ],
   "source": [
    "data['Close'].plot()\n",
    "plt.show()"
   ]
  },
  {
   "cell_type": "code",
   "execution_count": 10,
   "metadata": {},
   "outputs": [
    {
     "data": {
      "image/png": "[encoded data removed]",
      "text/plain": [
       "<Figure size 432x288 with 1 Axes>"
      ]
     },
     "metadata": {
      "needs_background": "light"
     },
     "output_type": "display_data"
    }
   ],
   "source": [
    "data[['Close','Adj Close']].plot()\n",
    "plt.show()"
   ]
  },
  {
   "cell_type": "code",
   "execution_count": 11,
   "metadata": {},
   "outputs": [
    {
     "name": "stdout",
     "output_type": "stream",
     "text": [
      "[*********************100%***********************]  1 of 1 completed\n",
      "\n",
      "1 Failed download:\n",
      "- NYSE: No data found for this date range, symbol may be delisted\n"
     ]
    }
   ],
   "source": [
    "data_nyse = yf.download(\"NYSE\", start=\"2014-01-01\", end=\"2014-12-31\")"
   ]
  },
  {
   "cell_type": "markdown",
   "metadata": {},
   "source": [
    "# Dates dataframe"
   ]
  },
  {
   "cell_type": "code",
   "execution_count": 15,
   "metadata": {},
   "outputs": [],
   "source": [
    "start_date=\"2019-01-01\"\n",
    "end_date=\"2019-12-31\"\n",
    "dates=pd.date_range(start_date,end_date)\n",
    "#dates_df.head()"
   ]
  },
  {
   "cell_type": "code",
   "execution_count": 16,
   "metadata": {},
   "outputs": [
    {
     "data": {
      "text/plain": [
       "DatetimeIndex(['2019-01-01', '2019-01-02', '2019-01-03', '2019-01-04',\n",
       "               '2019-01-05', '2019-01-06', '2019-01-07', '2019-01-08',\n",
       "               '2019-01-09', '2019-01-10',\n",
       "               ...\n",
       "               '2019-12-22', '2019-12-23', '2019-12-24', '2019-12-25',\n",
       "               '2019-12-26', '2019-12-27', '2019-12-28', '2019-12-29',\n",
       "               '2019-12-30', '2019-12-31'],\n",
       "              dtype='datetime64[ns]', length=365, freq='D')"
      ]
     },
     "execution_count": 16,
     "metadata": {},
     "output_type": "execute_result"
    }
   ],
   "source": [
    "dates"
   ]
  },
  {
   "cell_type": "code",
   "execution_count": 17,
   "metadata": {},
   "outputs": [],
   "source": [
    "df1=pd.DataFrame(index=dates)"
   ]
  },
  {
   "cell_type": "code",
   "execution_count": 18,
   "metadata": {},
   "outputs": [
    {
     "data": {
      "text/html": [
       "<div>\n",
       "<style scoped>\n",
       "    .dataframe tbody tr th:only-of-type {\n",
       "        vertical-align: middle;\n",
       "    }\n",
       "\n",
       "    .dataframe tbody tr th {\n",
       "        vertical-align: top;\n",
       "    }\n",
       "\n",
       "    .dataframe thead th {\n",
       "        text-align: right;\n",
       "    }\n",
       "</style>\n",
       "<table border=\"1\" class=\"dataframe\">\n",
       "  <thead>\n",
       "    <tr style=\"text-align: right;\">\n",
       "      <th></th>\n",
       "    </tr>\n",
       "  </thead>\n",
       "  <tbody>\n",
       "    <tr>\n",
       "      <th>2019-01-01</th>\n",
       "    </tr>\n",
       "    <tr>\n",
       "      <th>2019-01-02</th>\n",
       "    </tr>\n",
       "    <tr>\n",
       "      <th>2019-01-03</th>\n",
       "    </tr>\n",
       "    <tr>\n",
       "      <th>2019-01-04</th>\n",
       "    </tr>\n",
       "    <tr>\n",
       "      <th>2019-01-05</th>\n",
       "    </tr>\n",
       "  </tbody>\n",
       "</table>\n",
       "</div>"
      ],
      "text/plain": [
       "Empty DataFrame\n",
       "Columns: []\n",
       "Index: [2019-01-01 00:00:00, 2019-01-02 00:00:00, 2019-01-03 00:00:00, 2019-01-04 00:00:00, 2019-01-05 00:00:00]"
      ]
     },
     "execution_count": 18,
     "metadata": {},
     "output_type": "execute_result"
    }
   ],
   "source": [
    "df1.head()"
   ]
  },
  {
   "cell_type": "code",
   "execution_count": 19,
   "metadata": {},
   "outputs": [
    {
     "data": {
      "text/plain": [
       "Timestamp('2019-01-01 00:00:00', freq='D')"
      ]
     },
     "execution_count": 19,
     "metadata": {},
     "output_type": "execute_result"
    }
   ],
   "source": [
    "dates[0]"
   ]
  },
  {
   "cell_type": "code",
   "execution_count": 21,
   "metadata": {},
   "outputs": [
    {
     "name": "stdout",
     "output_type": "stream",
     "text": [
      "[*********************100%***********************]  1 of 1 completed\n"
     ]
    }
   ],
   "source": [
    "df_spy=yf.download(\"SPY\", start=\"2019-01-01\", end=\"2019-12-31\")"
   ]
  },
  {
   "cell_type": "code",
   "execution_count": 22,
   "metadata": {},
   "outputs": [
    {
     "data": {
      "text/html": [
       "<div>\n",
       "<style scoped>\n",
       "    .dataframe tbody tr th:only-of-type {\n",
       "        vertical-align: middle;\n",
       "    }\n",
       "\n",
       "    .dataframe tbody tr th {\n",
       "        vertical-align: top;\n",
       "    }\n",
       "\n",
       "    .dataframe thead th {\n",
       "        text-align: right;\n",
       "    }\n",
       "</style>\n",
       "<table border=\"1\" class=\"dataframe\">\n",
       "  <thead>\n",
       "    <tr style=\"text-align: right;\">\n",
       "      <th></th>\n",
       "      <th>Adj Close</th>\n",
       "      <th>Close</th>\n",
       "      <th>High</th>\n",
       "      <th>Low</th>\n",
       "      <th>Open</th>\n",
       "      <th>Volume</th>\n",
       "    </tr>\n",
       "    <tr>\n",
       "      <th>Date</th>\n",
       "      <th></th>\n",
       "      <th></th>\n",
       "      <th></th>\n",
       "      <th></th>\n",
       "      <th></th>\n",
       "      <th></th>\n",
       "    </tr>\n",
       "  </thead>\n",
       "  <tbody>\n",
       "    <tr>\n",
       "      <th>2018-12-31</th>\n",
       "      <td>243.841644</td>\n",
       "      <td>249.919998</td>\n",
       "      <td>250.190002</td>\n",
       "      <td>247.470001</td>\n",
       "      <td>249.559998</td>\n",
       "      <td>144299400</td>\n",
       "    </tr>\n",
       "    <tr>\n",
       "      <th>2019-01-02</th>\n",
       "      <td>244.095322</td>\n",
       "      <td>250.179993</td>\n",
       "      <td>251.210007</td>\n",
       "      <td>245.949997</td>\n",
       "      <td>245.979996</td>\n",
       "      <td>126925200</td>\n",
       "    </tr>\n",
       "    <tr>\n",
       "      <th>2019-01-03</th>\n",
       "      <td>238.270538</td>\n",
       "      <td>244.210007</td>\n",
       "      <td>248.570007</td>\n",
       "      <td>243.669998</td>\n",
       "      <td>248.229996</td>\n",
       "      <td>144140700</td>\n",
       "    </tr>\n",
       "    <tr>\n",
       "      <th>2019-01-04</th>\n",
       "      <td>246.251556</td>\n",
       "      <td>252.389999</td>\n",
       "      <td>253.110001</td>\n",
       "      <td>247.169998</td>\n",
       "      <td>247.589996</td>\n",
       "      <td>142628800</td>\n",
       "    </tr>\n",
       "    <tr>\n",
       "      <th>2019-01-07</th>\n",
       "      <td>248.193176</td>\n",
       "      <td>254.380005</td>\n",
       "      <td>255.949997</td>\n",
       "      <td>251.690002</td>\n",
       "      <td>252.690002</td>\n",
       "      <td>103139100</td>\n",
       "    </tr>\n",
       "  </tbody>\n",
       "</table>\n",
       "</div>"
      ],
      "text/plain": [
       "             Adj Close       Close        High         Low        Open  \\\n",
       "Date                                                                     \n",
       "2018-12-31  243.841644  249.919998  250.190002  247.470001  249.559998   \n",
       "2019-01-02  244.095322  250.179993  251.210007  245.949997  245.979996   \n",
       "2019-01-03  238.270538  244.210007  248.570007  243.669998  248.229996   \n",
       "2019-01-04  246.251556  252.389999  253.110001  247.169998  247.589996   \n",
       "2019-01-07  248.193176  254.380005  255.949997  251.690002  252.690002   \n",
       "\n",
       "               Volume  \n",
       "Date                   \n",
       "2018-12-31  144299400  \n",
       "2019-01-02  126925200  \n",
       "2019-01-03  144140700  \n",
       "2019-01-04  142628800  \n",
       "2019-01-07  103139100  "
      ]
     },
     "execution_count": 22,
     "metadata": {},
     "output_type": "execute_result"
    }
   ],
   "source": [
    "df_spy.head()"
   ]
  },
  {
   "cell_type": "code",
   "execution_count": 23,
   "metadata": {},
   "outputs": [],
   "source": [
    "df1=df1.join(df_spy)"
   ]
  },
  {
   "cell_type": "code",
   "execution_count": 26,
   "metadata": {},
   "outputs": [
    {
     "data": {
      "text/plain": [
       "DatetimeIndex(['2018-12-31', '2019-01-02', '2019-01-03', '2019-01-04',\n",
       "               '2019-01-07', '2019-01-08', '2019-01-09', '2019-01-10',\n",
       "               '2019-01-11', '2019-01-14',\n",
       "               ...\n",
       "               '2019-12-16', '2019-12-17', '2019-12-18', '2019-12-19',\n",
       "               '2019-12-20', '2019-12-23', '2019-12-24', '2019-12-26',\n",
       "               '2019-12-27', '2019-12-30'],\n",
       "              dtype='datetime64[ns]', name=u'Date', length=252, freq=None)"
      ]
     },
     "execution_count": 26,
     "metadata": {},
     "output_type": "execute_result"
    }
   ],
   "source": [
    "df_spy.index"
   ]
  },
  {
   "cell_type": "code",
   "execution_count": 27,
   "metadata": {},
   "outputs": [
    {
     "data": {
      "text/html": [
       "<div>\n",
       "<style scoped>\n",
       "    .dataframe tbody tr th:only-of-type {\n",
       "        vertical-align: middle;\n",
       "    }\n",
       "\n",
       "    .dataframe tbody tr th {\n",
       "        vertical-align: top;\n",
       "    }\n",
       "\n",
       "    .dataframe thead th {\n",
       "        text-align: right;\n",
       "    }\n",
       "</style>\n",
       "<table border=\"1\" class=\"dataframe\">\n",
       "  <thead>\n",
       "    <tr style=\"text-align: right;\">\n",
       "      <th></th>\n",
       "      <th>Adj Close</th>\n",
       "      <th>Close</th>\n",
       "      <th>High</th>\n",
       "      <th>Low</th>\n",
       "      <th>Open</th>\n",
       "      <th>Volume</th>\n",
       "    </tr>\n",
       "  </thead>\n",
       "  <tbody>\n",
       "    <tr>\n",
       "      <th>2019-01-01</th>\n",
       "      <td>NaN</td>\n",
       "      <td>NaN</td>\n",
       "      <td>NaN</td>\n",
       "      <td>NaN</td>\n",
       "      <td>NaN</td>\n",
       "      <td>NaN</td>\n",
       "    </tr>\n",
       "    <tr>\n",
       "      <th>2019-01-02</th>\n",
       "      <td>244.095322</td>\n",
       "      <td>250.179993</td>\n",
       "      <td>251.210007</td>\n",
       "      <td>245.949997</td>\n",
       "      <td>245.979996</td>\n",
       "      <td>126925200.0</td>\n",
       "    </tr>\n",
       "    <tr>\n",
       "      <th>2019-01-03</th>\n",
       "      <td>238.270538</td>\n",
       "      <td>244.210007</td>\n",
       "      <td>248.570007</td>\n",
       "      <td>243.669998</td>\n",
       "      <td>248.229996</td>\n",
       "      <td>144140700.0</td>\n",
       "    </tr>\n",
       "    <tr>\n",
       "      <th>2019-01-04</th>\n",
       "      <td>246.251556</td>\n",
       "      <td>252.389999</td>\n",
       "      <td>253.110001</td>\n",
       "      <td>247.169998</td>\n",
       "      <td>247.589996</td>\n",
       "      <td>142628800.0</td>\n",
       "    </tr>\n",
       "    <tr>\n",
       "      <th>2019-01-05</th>\n",
       "      <td>NaN</td>\n",
       "      <td>NaN</td>\n",
       "      <td>NaN</td>\n",
       "      <td>NaN</td>\n",
       "      <td>NaN</td>\n",
       "      <td>NaN</td>\n",
       "    </tr>\n",
       "  </tbody>\n",
       "</table>\n",
       "</div>"
      ],
      "text/plain": [
       "             Adj Close       Close        High         Low        Open  \\\n",
       "2019-01-01         NaN         NaN         NaN         NaN         NaN   \n",
       "2019-01-02  244.095322  250.179993  251.210007  245.949997  245.979996   \n",
       "2019-01-03  238.270538  244.210007  248.570007  243.669998  248.229996   \n",
       "2019-01-04  246.251556  252.389999  253.110001  247.169998  247.589996   \n",
       "2019-01-05         NaN         NaN         NaN         NaN         NaN   \n",
       "\n",
       "                 Volume  \n",
       "2019-01-01          NaN  \n",
       "2019-01-02  126925200.0  \n",
       "2019-01-03  144140700.0  \n",
       "2019-01-04  142628800.0  \n",
       "2019-01-05          NaN  "
      ]
     },
     "execution_count": 27,
     "metadata": {},
     "output_type": "execute_result"
    }
   ],
   "source": [
    "df1.head()"
   ]
  },
  {
   "cell_type": "code",
   "execution_count": 28,
   "metadata": {},
   "outputs": [
    {
     "data": {
      "text/html": [
       "<div>\n",
       "<style scoped>\n",
       "    .dataframe tbody tr th:only-of-type {\n",
       "        vertical-align: middle;\n",
       "    }\n",
       "\n",
       "    .dataframe tbody tr th {\n",
       "        vertical-align: top;\n",
       "    }\n",
       "\n",
       "    .dataframe thead th {\n",
       "        text-align: right;\n",
       "    }\n",
       "</style>\n",
       "<table border=\"1\" class=\"dataframe\">\n",
       "  <thead>\n",
       "    <tr style=\"text-align: right;\">\n",
       "      <th></th>\n",
       "      <th>Adj Close</th>\n",
       "      <th>Close</th>\n",
       "      <th>High</th>\n",
       "      <th>Low</th>\n",
       "      <th>Open</th>\n",
       "      <th>Volume</th>\n",
       "    </tr>\n",
       "  </thead>\n",
       "  <tbody>\n",
       "    <tr>\n",
       "      <th>2019-01-02</th>\n",
       "      <td>244.095322</td>\n",
       "      <td>250.179993</td>\n",
       "      <td>251.210007</td>\n",
       "      <td>245.949997</td>\n",
       "      <td>245.979996</td>\n",
       "      <td>126925200.0</td>\n",
       "    </tr>\n",
       "    <tr>\n",
       "      <th>2019-01-03</th>\n",
       "      <td>238.270538</td>\n",
       "      <td>244.210007</td>\n",
       "      <td>248.570007</td>\n",
       "      <td>243.669998</td>\n",
       "      <td>248.229996</td>\n",
       "      <td>144140700.0</td>\n",
       "    </tr>\n",
       "    <tr>\n",
       "      <th>2019-01-04</th>\n",
       "      <td>246.251556</td>\n",
       "      <td>252.389999</td>\n",
       "      <td>253.110001</td>\n",
       "      <td>247.169998</td>\n",
       "      <td>247.589996</td>\n",
       "      <td>142628800.0</td>\n",
       "    </tr>\n",
       "    <tr>\n",
       "      <th>2019-01-07</th>\n",
       "      <td>248.193176</td>\n",
       "      <td>254.380005</td>\n",
       "      <td>255.949997</td>\n",
       "      <td>251.690002</td>\n",
       "      <td>252.690002</td>\n",
       "      <td>103139100.0</td>\n",
       "    </tr>\n",
       "    <tr>\n",
       "      <th>2019-01-08</th>\n",
       "      <td>250.525040</td>\n",
       "      <td>256.769989</td>\n",
       "      <td>257.309998</td>\n",
       "      <td>254.000000</td>\n",
       "      <td>256.820007</td>\n",
       "      <td>102512600.0</td>\n",
       "    </tr>\n",
       "  </tbody>\n",
       "</table>\n",
       "</div>"
      ],
      "text/plain": [
       "             Adj Close       Close        High         Low        Open  \\\n",
       "2019-01-02  244.095322  250.179993  251.210007  245.949997  245.979996   \n",
       "2019-01-03  238.270538  244.210007  248.570007  243.669998  248.229996   \n",
       "2019-01-04  246.251556  252.389999  253.110001  247.169998  247.589996   \n",
       "2019-01-07  248.193176  254.380005  255.949997  251.690002  252.690002   \n",
       "2019-01-08  250.525040  256.769989  257.309998  254.000000  256.820007   \n",
       "\n",
       "                 Volume  \n",
       "2019-01-02  126925200.0  \n",
       "2019-01-03  144140700.0  \n",
       "2019-01-04  142628800.0  \n",
       "2019-01-07  103139100.0  \n",
       "2019-01-08  102512600.0  "
      ]
     },
     "execution_count": 28,
     "metadata": {},
     "output_type": "execute_result"
    }
   ],
   "source": [
    "df1=df1.dropna()\n",
    "df1.head()"
   ]
  },
  {
   "cell_type": "code",
   "execution_count": 36,
   "metadata": {},
   "outputs": [
    {
     "name": "stdout",
     "output_type": "stream",
     "text": [
      "[*********************100%***********************]  2 of 2 completed\n"
     ]
    }
   ],
   "source": [
    "data1 = yf.download(\"SPY AAPL\", start=\"2017-01-01\", end=\"2017-04-30\",\n",
    "                   group_by=\"ticker\")"
   ]
  },
  {
   "cell_type": "code",
   "execution_count": 37,
   "metadata": {},
   "outputs": [
    {
     "data": {
      "text/html": [
       "<div>\n",
       "<style scoped>\n",
       "    .dataframe tbody tr th:only-of-type {\n",
       "        vertical-align: middle;\n",
       "    }\n",
       "\n",
       "    .dataframe tbody tr th {\n",
       "        vertical-align: top;\n",
       "    }\n",
       "\n",
       "    .dataframe thead tr th {\n",
       "        text-align: left;\n",
       "    }\n",
       "\n",
       "    .dataframe thead tr:last-of-type th {\n",
       "        text-align: right;\n",
       "    }\n",
       "</style>\n",
       "<table border=\"1\" class=\"dataframe\">\n",
       "  <thead>\n",
       "    <tr>\n",
       "      <th></th>\n",
       "      <th colspan=\"6\" halign=\"left\">SPY</th>\n",
       "      <th colspan=\"6\" halign=\"left\">AAPL</th>\n",
       "    </tr>\n",
       "    <tr>\n",
       "      <th></th>\n",
       "      <th>Adj Close</th>\n",
       "      <th>Close</th>\n",
       "      <th>High</th>\n",
       "      <th>Low</th>\n",
       "      <th>Open</th>\n",
       "      <th>Volume</th>\n",
       "      <th>Adj Close</th>\n",
       "      <th>Close</th>\n",
       "      <th>High</th>\n",
       "      <th>Low</th>\n",
       "      <th>Open</th>\n",
       "      <th>Volume</th>\n",
       "    </tr>\n",
       "    <tr>\n",
       "      <th>Date</th>\n",
       "      <th></th>\n",
       "      <th></th>\n",
       "      <th></th>\n",
       "      <th></th>\n",
       "      <th></th>\n",
       "      <th></th>\n",
       "      <th></th>\n",
       "      <th></th>\n",
       "      <th></th>\n",
       "      <th></th>\n",
       "      <th></th>\n",
       "      <th></th>\n",
       "    </tr>\n",
       "  </thead>\n",
       "  <tbody>\n",
       "    <tr>\n",
       "      <th>2017-01-03</th>\n",
       "      <td>211.552551</td>\n",
       "      <td>225.240005</td>\n",
       "      <td>225.830002</td>\n",
       "      <td>223.880005</td>\n",
       "      <td>225.039993</td>\n",
       "      <td>91366500</td>\n",
       "      <td>110.392334</td>\n",
       "      <td>116.150002</td>\n",
       "      <td>116.330002</td>\n",
       "      <td>114.760002</td>\n",
       "      <td>115.800003</td>\n",
       "      <td>28781900</td>\n",
       "    </tr>\n",
       "    <tr>\n",
       "      <th>2017-01-04</th>\n",
       "      <td>212.811111</td>\n",
       "      <td>226.580002</td>\n",
       "      <td>226.750000</td>\n",
       "      <td>225.610001</td>\n",
       "      <td>225.619995</td>\n",
       "      <td>78744400</td>\n",
       "      <td>110.268791</td>\n",
       "      <td>116.019997</td>\n",
       "      <td>116.510002</td>\n",
       "      <td>115.750000</td>\n",
       "      <td>115.849998</td>\n",
       "      <td>21118100</td>\n",
       "    </tr>\n",
       "    <tr>\n",
       "      <th>2017-01-05</th>\n",
       "      <td>212.642044</td>\n",
       "      <td>226.399994</td>\n",
       "      <td>226.580002</td>\n",
       "      <td>225.479996</td>\n",
       "      <td>226.270004</td>\n",
       "      <td>78379000</td>\n",
       "      <td>110.829552</td>\n",
       "      <td>116.610001</td>\n",
       "      <td>116.860001</td>\n",
       "      <td>115.809998</td>\n",
       "      <td>115.919998</td>\n",
       "      <td>22193600</td>\n",
       "    </tr>\n",
       "    <tr>\n",
       "      <th>2017-01-06</th>\n",
       "      <td>213.402817</td>\n",
       "      <td>227.210007</td>\n",
       "      <td>227.750000</td>\n",
       "      <td>225.899994</td>\n",
       "      <td>226.529999</td>\n",
       "      <td>71559900</td>\n",
       "      <td>112.065109</td>\n",
       "      <td>117.910004</td>\n",
       "      <td>118.160004</td>\n",
       "      <td>116.470001</td>\n",
       "      <td>116.779999</td>\n",
       "      <td>31751900</td>\n",
       "    </tr>\n",
       "    <tr>\n",
       "      <th>2017-01-09</th>\n",
       "      <td>212.698441</td>\n",
       "      <td>226.460007</td>\n",
       "      <td>227.070007</td>\n",
       "      <td>226.419998</td>\n",
       "      <td>226.910004</td>\n",
       "      <td>46939700</td>\n",
       "      <td>113.091560</td>\n",
       "      <td>118.989998</td>\n",
       "      <td>119.430000</td>\n",
       "      <td>117.940002</td>\n",
       "      <td>117.949997</td>\n",
       "      <td>33561900</td>\n",
       "    </tr>\n",
       "  </tbody>\n",
       "</table>\n",
       "</div>"
      ],
      "text/plain": [
       "                   SPY                                                  \\\n",
       "             Adj Close       Close        High         Low        Open   \n",
       "Date                                                                     \n",
       "2017-01-03  211.552551  225.240005  225.830002  223.880005  225.039993   \n",
       "2017-01-04  212.811111  226.580002  226.750000  225.610001  225.619995   \n",
       "2017-01-05  212.642044  226.399994  226.580002  225.479996  226.270004   \n",
       "2017-01-06  213.402817  227.210007  227.750000  225.899994  226.529999   \n",
       "2017-01-09  212.698441  226.460007  227.070007  226.419998  226.910004   \n",
       "\n",
       "                            AAPL                                      \\\n",
       "              Volume   Adj Close       Close        High         Low   \n",
       "Date                                                                   \n",
       "2017-01-03  91366500  110.392334  116.150002  116.330002  114.760002   \n",
       "2017-01-04  78744400  110.268791  116.019997  116.510002  115.750000   \n",
       "2017-01-05  78379000  110.829552  116.610001  116.860001  115.809998   \n",
       "2017-01-06  71559900  112.065109  117.910004  118.160004  116.470001   \n",
       "2017-01-09  46939700  113.091560  118.989998  119.430000  117.940002   \n",
       "\n",
       "                                  \n",
       "                  Open    Volume  \n",
       "Date                              \n",
       "2017-01-03  115.800003  28781900  \n",
       "2017-01-04  115.849998  21118100  \n",
       "2017-01-05  115.919998  22193600  \n",
       "2017-01-06  116.779999  31751900  \n",
       "2017-01-09  117.949997  33561900  "
      ]
     },
     "execution_count": 37,
     "metadata": {},
     "output_type": "execute_result"
    }
   ],
   "source": [
    "data1.head()"
   ]
  },
  {
   "cell_type": "code",
   "execution_count": 39,
   "metadata": {},
   "outputs": [
    {
     "data": {
      "image/png": "[encoded data removed]",
      "text/plain": [
       "<Figure size 432x288 with 1 Axes>"
      ]
     },
     "metadata": {
      "needs_background": "light"
     },
     "output_type": "display_data"
    }
   ],
   "source": [
    "data1['SPY']['Close'].plot()\n",
    "plt.show()"
   ]
  },
  {
   "cell_type": "markdown",
   "metadata": {},
   "source": [
    "# Using pandas_datareader"
   ]
  },
  {
   "cell_type": "code",
   "execution_count": 32,
   "metadata": {},
   "outputs": [],
   "source": [
    "from pandas_datareader import data as pdr"
   ]
  },
  {
   "cell_type": "code",
   "execution_count": 33,
   "metadata": {},
   "outputs": [],
   "source": [
    "import yfinance as yf\n",
    "yf.pdr_override()"
   ]
  },
  {
   "cell_type": "code",
   "execution_count": 34,
   "metadata": {},
   "outputs": [
    {
     "name": "stdout",
     "output_type": "stream",
     "text": [
      "[*********************100%***********************]  1 of 1 completed\n"
     ]
    }
   ],
   "source": [
    "data=pdr.get_data_yahoo(\"SPY\",start=\"2019-01-01\",end=\"2019-12-31\")"
   ]
  },
  {
   "cell_type": "code",
   "execution_count": 35,
   "metadata": {},
   "outputs": [
    {
     "data": {
      "text/html": [
       "<div>\n",
       "<style scoped>\n",
       "    .dataframe tbody tr th:only-of-type {\n",
       "        vertical-align: middle;\n",
       "    }\n",
       "\n",
       "    .dataframe tbody tr th {\n",
       "        vertical-align: top;\n",
       "    }\n",
       "\n",
       "    .dataframe thead th {\n",
       "        text-align: right;\n",
       "    }\n",
       "</style>\n",
       "<table border=\"1\" class=\"dataframe\">\n",
       "  <thead>\n",
       "    <tr style=\"text-align: right;\">\n",
       "      <th></th>\n",
       "      <th>Adj Close</th>\n",
       "      <th>Close</th>\n",
       "      <th>High</th>\n",
       "      <th>Low</th>\n",
       "      <th>Open</th>\n",
       "      <th>Volume</th>\n",
       "    </tr>\n",
       "    <tr>\n",
       "      <th>Date</th>\n",
       "      <th></th>\n",
       "      <th></th>\n",
       "      <th></th>\n",
       "      <th></th>\n",
       "      <th></th>\n",
       "      <th></th>\n",
       "    </tr>\n",
       "  </thead>\n",
       "  <tbody>\n",
       "    <tr>\n",
       "      <th>2018-12-31</th>\n",
       "      <td>243.841644</td>\n",
       "      <td>249.919998</td>\n",
       "      <td>250.190002</td>\n",
       "      <td>247.470001</td>\n",
       "      <td>249.559998</td>\n",
       "      <td>144299400</td>\n",
       "    </tr>\n",
       "    <tr>\n",
       "      <th>2019-01-02</th>\n",
       "      <td>244.095322</td>\n",
       "      <td>250.179993</td>\n",
       "      <td>251.210007</td>\n",
       "      <td>245.949997</td>\n",
       "      <td>245.979996</td>\n",
       "      <td>126925200</td>\n",
       "    </tr>\n",
       "    <tr>\n",
       "      <th>2019-01-03</th>\n",
       "      <td>238.270538</td>\n",
       "      <td>244.210007</td>\n",
       "      <td>248.570007</td>\n",
       "      <td>243.669998</td>\n",
       "      <td>248.229996</td>\n",
       "      <td>144140700</td>\n",
       "    </tr>\n",
       "    <tr>\n",
       "      <th>2019-01-04</th>\n",
       "      <td>246.251556</td>\n",
       "      <td>252.389999</td>\n",
       "      <td>253.110001</td>\n",
       "      <td>247.169998</td>\n",
       "      <td>247.589996</td>\n",
       "      <td>142628800</td>\n",
       "    </tr>\n",
       "    <tr>\n",
       "      <th>2019-01-07</th>\n",
       "      <td>248.193176</td>\n",
       "      <td>254.380005</td>\n",
       "      <td>255.949997</td>\n",
       "      <td>251.690002</td>\n",
       "      <td>252.690002</td>\n",
       "      <td>103139100</td>\n",
       "    </tr>\n",
       "  </tbody>\n",
       "</table>\n",
       "</div>"
      ],
      "text/plain": [
       "             Adj Close       Close        High         Low        Open  \\\n",
       "Date                                                                     \n",
       "2018-12-31  243.841644  249.919998  250.190002  247.470001  249.559998   \n",
       "2019-01-02  244.095322  250.179993  251.210007  245.949997  245.979996   \n",
       "2019-01-03  238.270538  244.210007  248.570007  243.669998  248.229996   \n",
       "2019-01-04  246.251556  252.389999  253.110001  247.169998  247.589996   \n",
       "2019-01-07  248.193176  254.380005  255.949997  251.690002  252.690002   \n",
       "\n",
       "               Volume  \n",
       "Date                   \n",
       "2018-12-31  144299400  \n",
       "2019-01-02  126925200  \n",
       "2019-01-03  144140700  \n",
       "2019-01-04  142628800  \n",
       "2019-01-07  103139100  "
      ]
     },
     "execution_count": 35,
     "metadata": {},
     "output_type": "execute_result"
    }
   ],
   "source": [
    "data.head()"
   ]
  },
  {
   "cell_type": "markdown",
   "metadata": {},
   "source": [
    "# multiple stocks"
   ]
  },
  {
   "cell_type": "code",
   "execution_count": 40,
   "metadata": {},
   "outputs": [
    {
     "name": "stdout",
     "output_type": "stream",
     "text": [
      "[*********************100%***********************]  4 of 4 completed\n"
     ]
    }
   ],
   "source": [
    "data1 = yf.download(\"SPY GOOG IBM GLD\", start=\"2019-01-01\", end=\"2019-12-31\",\n",
    "                   group_by=\"ticker\")"
   ]
  },
  {
   "cell_type": "code",
   "execution_count": 41,
   "metadata": {},
   "outputs": [
    {
     "data": {
      "text/html": [
       "<div>\n",
       "<style scoped>\n",
       "    .dataframe tbody tr th:only-of-type {\n",
       "        vertical-align: middle;\n",
       "    }\n",
       "\n",
       "    .dataframe tbody tr th {\n",
       "        vertical-align: top;\n",
       "    }\n",
       "\n",
       "    .dataframe thead tr th {\n",
       "        text-align: left;\n",
       "    }\n",
       "\n",
       "    .dataframe thead tr:last-of-type th {\n",
       "        text-align: right;\n",
       "    }\n",
       "</style>\n",
       "<table border=\"1\" class=\"dataframe\">\n",
       "  <thead>\n",
       "    <tr>\n",
       "      <th></th>\n",
       "      <th colspan=\"6\" halign=\"left\">GOOG</th>\n",
       "      <th colspan=\"4\" halign=\"left\">SPY</th>\n",
       "      <th>...</th>\n",
       "      <th colspan=\"4\" halign=\"left\">GLD</th>\n",
       "      <th colspan=\"6\" halign=\"left\">IBM</th>\n",
       "    </tr>\n",
       "    <tr>\n",
       "      <th></th>\n",
       "      <th>Adj Close</th>\n",
       "      <th>Close</th>\n",
       "      <th>High</th>\n",
       "      <th>Low</th>\n",
       "      <th>Open</th>\n",
       "      <th>Volume</th>\n",
       "      <th>Adj Close</th>\n",
       "      <th>Close</th>\n",
       "      <th>High</th>\n",
       "      <th>Low</th>\n",
       "      <th>...</th>\n",
       "      <th>High</th>\n",
       "      <th>Low</th>\n",
       "      <th>Open</th>\n",
       "      <th>Volume</th>\n",
       "      <th>Adj Close</th>\n",
       "      <th>Close</th>\n",
       "      <th>High</th>\n",
       "      <th>Low</th>\n",
       "      <th>Open</th>\n",
       "      <th>Volume</th>\n",
       "    </tr>\n",
       "    <tr>\n",
       "      <th>Date</th>\n",
       "      <th></th>\n",
       "      <th></th>\n",
       "      <th></th>\n",
       "      <th></th>\n",
       "      <th></th>\n",
       "      <th></th>\n",
       "      <th></th>\n",
       "      <th></th>\n",
       "      <th></th>\n",
       "      <th></th>\n",
       "      <th></th>\n",
       "      <th></th>\n",
       "      <th></th>\n",
       "      <th></th>\n",
       "      <th></th>\n",
       "      <th></th>\n",
       "      <th></th>\n",
       "      <th></th>\n",
       "      <th></th>\n",
       "      <th></th>\n",
       "      <th></th>\n",
       "    </tr>\n",
       "  </thead>\n",
       "  <tbody>\n",
       "    <tr>\n",
       "      <th>2018-12-31</th>\n",
       "      <td>1035.609985</td>\n",
       "      <td>1035.609985</td>\n",
       "      <td>1052.699951</td>\n",
       "      <td>1023.590027</td>\n",
       "      <td>1050.959961</td>\n",
       "      <td>1493300</td>\n",
       "      <td>243.841644</td>\n",
       "      <td>249.919998</td>\n",
       "      <td>250.190002</td>\n",
       "      <td>247.470001</td>\n",
       "      <td>...</td>\n",
       "      <td>121.260002</td>\n",
       "      <td>120.830002</td>\n",
       "      <td>120.980003</td>\n",
       "      <td>8449400</td>\n",
       "      <td>105.926056</td>\n",
       "      <td>113.669998</td>\n",
       "      <td>114.349998</td>\n",
       "      <td>112.419998</td>\n",
       "      <td>113.330002</td>\n",
       "      <td>4982800</td>\n",
       "    </tr>\n",
       "    <tr>\n",
       "      <th>2019-01-02</th>\n",
       "      <td>1045.849976</td>\n",
       "      <td>1045.849976</td>\n",
       "      <td>1052.319946</td>\n",
       "      <td>1015.710022</td>\n",
       "      <td>1016.570007</td>\n",
       "      <td>1532600</td>\n",
       "      <td>244.095322</td>\n",
       "      <td>250.179993</td>\n",
       "      <td>251.210007</td>\n",
       "      <td>245.949997</td>\n",
       "      <td>...</td>\n",
       "      <td>121.750000</td>\n",
       "      <td>120.879997</td>\n",
       "      <td>121.349998</td>\n",
       "      <td>12776200</td>\n",
       "      <td>107.361145</td>\n",
       "      <td>115.209999</td>\n",
       "      <td>115.980003</td>\n",
       "      <td>111.690002</td>\n",
       "      <td>112.010002</td>\n",
       "      <td>4239900</td>\n",
       "    </tr>\n",
       "    <tr>\n",
       "      <th>2019-01-03</th>\n",
       "      <td>1016.059998</td>\n",
       "      <td>1016.059998</td>\n",
       "      <td>1056.979980</td>\n",
       "      <td>1014.070007</td>\n",
       "      <td>1041.000000</td>\n",
       "      <td>1841100</td>\n",
       "      <td>238.270538</td>\n",
       "      <td>244.210007</td>\n",
       "      <td>248.570007</td>\n",
       "      <td>243.669998</td>\n",
       "      <td>...</td>\n",
       "      <td>122.459999</td>\n",
       "      <td>121.730003</td>\n",
       "      <td>121.779999</td>\n",
       "      <td>15440800</td>\n",
       "      <td>105.217842</td>\n",
       "      <td>112.910004</td>\n",
       "      <td>114.879997</td>\n",
       "      <td>112.690002</td>\n",
       "      <td>114.529999</td>\n",
       "      <td>4346700</td>\n",
       "    </tr>\n",
       "    <tr>\n",
       "      <th>2019-01-04</th>\n",
       "      <td>1070.709961</td>\n",
       "      <td>1070.709961</td>\n",
       "      <td>1070.839966</td>\n",
       "      <td>1027.417969</td>\n",
       "      <td>1032.589966</td>\n",
       "      <td>2093900</td>\n",
       "      <td>246.251556</td>\n",
       "      <td>252.389999</td>\n",
       "      <td>253.110001</td>\n",
       "      <td>247.169998</td>\n",
       "      <td>...</td>\n",
       "      <td>121.599998</td>\n",
       "      <td>120.690002</td>\n",
       "      <td>121.320000</td>\n",
       "      <td>13334000</td>\n",
       "      <td>109.327393</td>\n",
       "      <td>117.320000</td>\n",
       "      <td>117.489998</td>\n",
       "      <td>114.440002</td>\n",
       "      <td>114.910004</td>\n",
       "      <td>4477800</td>\n",
       "    </tr>\n",
       "    <tr>\n",
       "      <th>2019-01-07</th>\n",
       "      <td>1068.390015</td>\n",
       "      <td>1068.390015</td>\n",
       "      <td>1074.000000</td>\n",
       "      <td>1054.760010</td>\n",
       "      <td>1071.500000</td>\n",
       "      <td>1981900</td>\n",
       "      <td>248.193176</td>\n",
       "      <td>254.380005</td>\n",
       "      <td>255.949997</td>\n",
       "      <td>251.690002</td>\n",
       "      <td>...</td>\n",
       "      <td>122.220001</td>\n",
       "      <td>121.570000</td>\n",
       "      <td>122.160004</td>\n",
       "      <td>7473600</td>\n",
       "      <td>110.100861</td>\n",
       "      <td>118.150002</td>\n",
       "      <td>118.830002</td>\n",
       "      <td>116.669998</td>\n",
       "      <td>117.500000</td>\n",
       "      <td>3751200</td>\n",
       "    </tr>\n",
       "  </tbody>\n",
       "</table>\n",
       "<p>5 rows × 24 columns</p>\n",
       "</div>"
      ],
      "text/plain": [
       "                   GOOG                                                      \\\n",
       "              Adj Close        Close         High          Low         Open   \n",
       "Date                                                                          \n",
       "2018-12-31  1035.609985  1035.609985  1052.699951  1023.590027  1050.959961   \n",
       "2019-01-02  1045.849976  1045.849976  1052.319946  1015.710022  1016.570007   \n",
       "2019-01-03  1016.059998  1016.059998  1056.979980  1014.070007  1041.000000   \n",
       "2019-01-04  1070.709961  1070.709961  1070.839966  1027.417969  1032.589966   \n",
       "2019-01-07  1068.390015  1068.390015  1074.000000  1054.760010  1071.500000   \n",
       "\n",
       "                            SPY                                      ...  \\\n",
       "             Volume   Adj Close       Close        High         Low  ...   \n",
       "Date                                                                 ...   \n",
       "2018-12-31  1493300  243.841644  249.919998  250.190002  247.470001  ...   \n",
       "2019-01-02  1532600  244.095322  250.179993  251.210007  245.949997  ...   \n",
       "2019-01-03  1841100  238.270538  244.210007  248.570007  243.669998  ...   \n",
       "2019-01-04  2093900  246.251556  252.389999  253.110001  247.169998  ...   \n",
       "2019-01-07  1981900  248.193176  254.380005  255.949997  251.690002  ...   \n",
       "\n",
       "                   GLD                                           IBM  \\\n",
       "                  High         Low        Open    Volume   Adj Close   \n",
       "Date                                                                   \n",
       "2018-12-31  121.260002  120.830002  120.980003   8449400  105.926056   \n",
       "2019-01-02  121.750000  120.879997  121.349998  12776200  107.361145   \n",
       "2019-01-03  122.459999  121.730003  121.779999  15440800  105.217842   \n",
       "2019-01-04  121.599998  120.690002  121.320000  13334000  109.327393   \n",
       "2019-01-07  122.220001  121.570000  122.160004   7473600  110.100861   \n",
       "\n",
       "                                                                     \n",
       "                 Close        High         Low        Open   Volume  \n",
       "Date                                                                 \n",
       "2018-12-31  113.669998  114.349998  112.419998  113.330002  4982800  \n",
       "2019-01-02  115.209999  115.980003  111.690002  112.010002  4239900  \n",
       "2019-01-03  112.910004  114.879997  112.690002  114.529999  4346700  \n",
       "2019-01-04  117.320000  117.489998  114.440002  114.910004  4477800  \n",
       "2019-01-07  118.150002  118.830002  116.669998  117.500000  3751200  \n",
       "\n",
       "[5 rows x 24 columns]"
      ]
     },
     "execution_count": 41,
     "metadata": {},
     "output_type": "execute_result"
    }
   ],
   "source": [
    "data1.head()"
   ]
  },
  {
   "cell_type": "code",
   "execution_count": 52,
   "metadata": {},
   "outputs": [],
   "source": [
    "df1=data1['GOOG']['Close']\n",
    "df2=data1['SPY']['Close']\n",
    "df3=data1['IBM']['Close']\n",
    "df4=data1['GLD']['Close']"
   ]
  },
  {
   "cell_type": "code",
   "execution_count": 53,
   "metadata": {},
   "outputs": [],
   "source": [
    "df=pd.DataFrame.from_dict({'GOOG' :df1,'SPY': df2,'IBM': df3,'GLD':df4})"
   ]
  },
  {
   "cell_type": "code",
   "execution_count": 54,
   "metadata": {},
   "outputs": [
    {
     "data": {
      "text/html": [
       "<div>\n",
       "<style scoped>\n",
       "    .dataframe tbody tr th:only-of-type {\n",
       "        vertical-align: middle;\n",
       "    }\n",
       "\n",
       "    .dataframe tbody tr th {\n",
       "        vertical-align: top;\n",
       "    }\n",
       "\n",
       "    .dataframe thead th {\n",
       "        text-align: right;\n",
       "    }\n",
       "</style>\n",
       "<table border=\"1\" class=\"dataframe\">\n",
       "  <thead>\n",
       "    <tr style=\"text-align: right;\">\n",
       "      <th></th>\n",
       "      <th>GLD</th>\n",
       "      <th>GOOG</th>\n",
       "      <th>IBM</th>\n",
       "      <th>SPY</th>\n",
       "    </tr>\n",
       "    <tr>\n",
       "      <th>Date</th>\n",
       "      <th></th>\n",
       "      <th></th>\n",
       "      <th></th>\n",
       "      <th></th>\n",
       "    </tr>\n",
       "  </thead>\n",
       "  <tbody>\n",
       "    <tr>\n",
       "      <th>2018-12-31</th>\n",
       "      <td>121.250000</td>\n",
       "      <td>1035.609985</td>\n",
       "      <td>113.669998</td>\n",
       "      <td>249.919998</td>\n",
       "    </tr>\n",
       "    <tr>\n",
       "      <th>2019-01-02</th>\n",
       "      <td>121.330002</td>\n",
       "      <td>1045.849976</td>\n",
       "      <td>115.209999</td>\n",
       "      <td>250.179993</td>\n",
       "    </tr>\n",
       "    <tr>\n",
       "      <th>2019-01-03</th>\n",
       "      <td>122.430000</td>\n",
       "      <td>1016.059998</td>\n",
       "      <td>112.910004</td>\n",
       "      <td>244.210007</td>\n",
       "    </tr>\n",
       "    <tr>\n",
       "      <th>2019-01-04</th>\n",
       "      <td>121.440002</td>\n",
       "      <td>1070.709961</td>\n",
       "      <td>117.320000</td>\n",
       "      <td>252.389999</td>\n",
       "    </tr>\n",
       "    <tr>\n",
       "      <th>2019-01-07</th>\n",
       "      <td>121.860001</td>\n",
       "      <td>1068.390015</td>\n",
       "      <td>118.150002</td>\n",
       "      <td>254.380005</td>\n",
       "    </tr>\n",
       "  </tbody>\n",
       "</table>\n",
       "</div>"
      ],
      "text/plain": [
       "                   GLD         GOOG         IBM         SPY\n",
       "Date                                                       \n",
       "2018-12-31  121.250000  1035.609985  113.669998  249.919998\n",
       "2019-01-02  121.330002  1045.849976  115.209999  250.179993\n",
       "2019-01-03  122.430000  1016.059998  112.910004  244.210007\n",
       "2019-01-04  121.440002  1070.709961  117.320000  252.389999\n",
       "2019-01-07  121.860001  1068.390015  118.150002  254.380005"
      ]
     },
     "execution_count": 54,
     "metadata": {},
     "output_type": "execute_result"
    }
   ],
   "source": [
    "df.head()"
   ]
  },
  {
   "cell_type": "code",
   "execution_count": 55,
   "metadata": {},
   "outputs": [
    {
     "data": {
      "image/png": "[encoded data removed]",
      "text/plain": [
       "<Figure size 432x288 with 1 Axes>"
      ]
     },
     "metadata": {
      "needs_background": "light"
     },
     "output_type": "display_data"
    }
   ],
   "source": [
    "df.plot()\n",
    "plt.show()"
   ]
  },
  {
   "cell_type": "markdown",
   "metadata": {},
   "source": [
    "# Normalization"
   ]
  },
  {
   "cell_type": "code",
   "execution_count": 58,
   "metadata": {},
   "outputs": [],
   "source": [
    "df=df/df.iloc[0,:]"
   ]
  },
  {
   "cell_type": "code",
   "execution_count": 59,
   "metadata": {},
   "outputs": [
    {
     "data": {
      "text/plain": [
       "<matplotlib.axes._subplots.AxesSubplot at 0x110e1e810>"
      ]
     },
     "execution_count": 59,
     "metadata": {},
     "output_type": "execute_result"
    },
    {
     "data": {
      "image/png": "[encoded data removed]",
      "text/plain": [
       "<Figure size 432x288 with 1 Axes>"
      ]
     },
     "metadata": {
      "needs_background": "light"
     },
     "output_type": "display_data"
    }
   ],
   "source": [
    "df.plot()"
   ]
  },
  {
   "cell_type": "code",
   "execution_count": null,
   "metadata": {},
   "outputs": [],
   "source": []
  }
 ],
 "metadata": {
  "kernelspec": {
   "display_name": "Python 2",
   "language": "python",
   "name": "python2"
  },
  "language_info": {
   "codemirror_mode": {
    "name": "ipython",
    "version": 2
   },
   "file_extension": ".py",
   "mimetype": "text/x-python",
   "name": "python",
   "nbconvert_exporter": "python",
   "pygments_lexer": "ipython2",
   "version": "2.7.15"
  }
 },
 "nbformat": 4,
 "nbformat_minor": 2
}
